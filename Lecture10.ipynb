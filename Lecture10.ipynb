{
 "cells": [
  {
   "cell_type": "markdown",
   "id": "ee849307",
   "metadata": {},
   "source": [
    "# *Lecture 10*\n",
    "\n",
    "# Interpolation\n",
    "\n",
    "| |\n",
    "|:---:|\n",
    "|Selected Content [From **COMPUTATIONAL PHYSICS**, 3rd Ed, 2015](http://physics.oregonstate.edu/~rubin/Books/CPbook/index.html) <br>RH Landau, MJ Paez, and CC Bordeianu (deceased) <br>Copyrights: <br> [Wiley-VCH, Berlin;](http://www.wiley-vch.de/publish/en/books/ISBN3-527-41315-4/) and [Wiley & Sons, New York](http://www.wiley.com/WileyCDA/WileyTitle/productCd-3527413154.html)<br>  R Landau, Oregon State Unv, <br>MJ Paez, Univ Antioquia,<br> C Bordeianu, Univ Bucharest, 2015.<br> Support by National Science Foundation.|"
   ]
  },
  {
   "cell_type": "markdown",
   "id": "d81c0fc5",
   "metadata": {},
   "source": [
    "## Follow-up on energy levels in finite square well\n",
    "\n",
    "Let's return to the energy levels in our finite 1-D square well.\n",
    "Vary $V_0$ and check the energy solution(s) $E$ as a function of $V_0$.\n",
    "* Does it match your expectation?\n",
    "* Which $n$ values are represented?\n",
    "* Make $V_0$ very large.  Do the results match your expectations?\n",
    "* Do you find any limitations to the methods?\n",
    "\n",
    "We assume the energies $E$ and $-V_0$ are all negative; our plot shows $|E|$ instead of $E$.\n",
    "\n",
    "Let's calculate values for a very deep well and compare the results to expectations for the \"infinite square well.\""
   ]
  },
  {
   "cell_type": "code",
   "execution_count": 3,
   "id": "8c67afea",
   "metadata": {
    "scrolled": false
   },
   "outputs": [
    {
     "name": "stderr",
     "output_type": "stream",
     "text": [
      "C:\\Users\\palec\\AppData\\Local\\Temp/ipykernel_20856/1511090524.py:7: RuntimeWarning: divide by zero encountered in double_scalars\n",
      "  return np.sqrt(E)/np.tan(np.sqrt(V-E)) - np.sqrt(V-E)\n"
     ]
    },
    {
     "data": {
      "image/png": "[encoded data removed]",
      "text/plain": [
       "<Figure size 432x288 with 1 Axes>"
      ]
     },
     "metadata": {
      "needs_background": "light"
     },
     "output_type": "display_data"
    },
    {
     "name": "stdout",
     "output_type": "stream",
     "text": [
      "iteration  0: x = 32.500000 and f(x) =  1.506493\n",
      "iteration  1: x = 28.750000 and f(x) = -3.718925\n",
      "iteration  2: x = 30.625000 and f(x) = -1.500761\n",
      "iteration  3: x = 31.562500 and f(x) = -0.121906\n",
      "iteration  4: x = 32.031250 and f(x) =  0.656767\n",
      "iteration  5: x = 31.796875 and f(x) =  0.259153\n",
      "iteration  6: x = 31.679688 and f(x) =  0.066623\n",
      "iteration  7: x = 31.621094 and f(x) = -0.028133\n",
      "iteration  8: x = 31.650391 and f(x) =  0.019121\n",
      "iteration  9: x = 31.635742 and f(x) = -0.004537\n",
      "iteration 10: x = 31.643066 and f(x) =  0.007284\n",
      "iteration 11: x = 31.639404 and f(x) =  0.001372\n",
      "iteration 12: x = 31.637573 and f(x) = -0.001583\n",
      "iteration 13: x = 31.638489 and f(x) = -0.000106\n",
      "iteration 14: x = 31.638947 and f(x) =  0.000633\n",
      "iteration 15: x = 31.638718 and f(x) =  0.000264\n",
      "iteration 16: x = 31.638603 and f(x) =  0.000079\n",
      "iteration 17: x = 31.638546 and f(x) = -0.000013\n",
      "root found with precision eps =  0.0001\n",
      "iteration  0: x = 75.000000 and f(x) = -12.798917\n",
      "iteration  1: x = 87.500000 and f(x) = -6.772765\n",
      "iteration  2: x = 93.750000 and f(x) = -2.352062\n",
      "iteration  3: x = 96.875000 and f(x) =  0.837208\n",
      "iteration  4: x = 95.312500 and f(x) = -0.880184\n",
      "iteration  5: x = 96.093750 and f(x) = -0.056994\n",
      "iteration  6: x = 96.484375 and f(x) =  0.380518\n",
      "iteration  7: x = 96.289062 and f(x) =  0.159459\n",
      "iteration  8: x = 96.191406 and f(x) =  0.050668\n",
      "iteration  9: x = 96.142578 and f(x) = -0.003302\n",
      "iteration 10: x = 96.166992 and f(x) =  0.023648\n",
      "iteration 11: x = 96.154785 and f(x) =  0.010164\n",
      "iteration 12: x = 96.148682 and f(x) =  0.003429\n",
      "iteration 13: x = 96.145630 and f(x) =  0.000063\n",
      "iteration 14: x = 96.144104 and f(x) = -0.001620\n",
      "iteration 15: x = 96.144867 and f(x) = -0.000779\n",
      "iteration 16: x = 96.145248 and f(x) = -0.000358\n",
      "iteration 17: x = 96.145439 and f(x) = -0.000148\n",
      "iteration 18: x = 96.145535 and f(x) = -0.000043\n",
      "root found with precision eps =  0.0001\n",
      "iteration  0: x = 125.000000 and f(x) = -20.317378\n",
      "iteration  1: x = 137.500000 and f(x) = -8.512618\n",
      "iteration  2: x = 143.750000 and f(x) = -3.069284\n",
      "iteration  3: x = 146.875000 and f(x) =  0.399075\n",
      "iteration  4: x = 145.312500 and f(x) = -1.439458\n",
      "iteration  5: x = 146.093750 and f(x) = -0.551073\n",
      "iteration  6: x = 146.484375 and f(x) = -0.084427\n",
      "iteration  7: x = 146.679688 and f(x) =  0.155120\n",
      "iteration  8: x = 146.582031 and f(x) =  0.034808\n",
      "iteration  9: x = 146.533203 and f(x) = -0.024942\n",
      "iteration 10: x = 146.557617 and f(x) =  0.004899\n",
      "iteration 11: x = 146.545410 and f(x) = -0.010030\n",
      "iteration 12: x = 146.551514 and f(x) = -0.002567\n",
      "iteration 13: x = 146.554565 and f(x) =  0.001166\n",
      "iteration 14: x = 146.553040 and f(x) = -0.000701\n",
      "iteration 15: x = 146.553802 and f(x) =  0.000232\n",
      "iteration 16: x = 146.553421 and f(x) = -0.000234\n",
      "iteration 17: x = 146.553612 and f(x) = -0.000001\n",
      "iteration 18: x = 146.553707 and f(x) =  0.000116\n",
      "root found with precision eps =  0.0001\n",
      "iteration  0: x = 170.000000 and f(x) = -17.990180\n",
      "iteration  1: x = 180.000000 and f(x) = -1.185319\n",
      "iteration  2: x = 185.000000 and f(x) = 11.283123\n",
      "iteration  3: x = 182.500000 and f(x) =  3.715477\n",
      "iteration  4: x = 181.250000 and f(x) =  1.082474\n",
      "iteration  5: x = 180.625000 and f(x) = -0.086455\n",
      "iteration  6: x = 180.937500 and f(x) =  0.488126\n",
      "iteration  7: x = 180.781250 and f(x) =  0.198515\n",
      "iteration  8: x = 180.703125 and f(x) =  0.055468\n",
      "iteration  9: x = 180.664062 and f(x) = -0.015632\n",
      "iteration 10: x = 180.683594 and f(x) =  0.019883\n",
      "iteration 11: x = 180.673828 and f(x) =  0.002117\n",
      "iteration 12: x = 180.668945 and f(x) = -0.006760\n",
      "iteration 13: x = 180.671387 and f(x) = -0.002322\n",
      "iteration 14: x = 180.672607 and f(x) = -0.000103\n",
      "iteration 15: x = 180.673218 and f(x) =  0.001007\n",
      "iteration 16: x = 180.672913 and f(x) =  0.000452\n",
      "iteration 17: x = 180.672760 and f(x) =  0.000175\n",
      "iteration 18: x = 180.672684 and f(x) =  0.000036\n",
      "root found with precision eps =  0.0001\n"
     ]
    },
    {
     "data": {
      "text/plain": [
       "180.6726837158203"
      ]
     },
     "execution_count": 3,
     "metadata": {},
     "output_type": "execute_result"
    }
   ],
   "source": [
    "import numpy as np\n",
    "import matplotlib.pyplot as plt\n",
    "def f(V, E):\n",
    "    return np.sqrt(V-E)*np.tan(np.sqrt(V-E)) - np.sqrt(E)\n",
    "\n",
    "def g(V, E):\n",
    "    return np.sqrt(E)/np.tan(np.sqrt(V-E)) - np.sqrt(V-E)\n",
    "\n",
    "V = 200. # vary this number to see effects on energy levels\n",
    "E_values = []\n",
    "g_values = []\n",
    "for E in np.linspace(1, V, 50):\n",
    "    E_values.append(E)\n",
    "    g_values.append(g(V, E))\n",
    "plt.plot(E_values, g_values)\n",
    "plt.ylim(-10.,10.)\n",
    "plt.xlabel('energy')\n",
    "plt.grid()\n",
    "plt.show()\n",
    "\n",
    "def bisection2(xminus, xplus, Nmax, eps):       # x-,x+ Nmax error\n",
    "    for it in range(0,Nmax):\n",
    "        x=(xminus+xplus)/2                     # Mid point\n",
    "        print(\"iteration %2d: x = %.6f and f(x) = %9.6f\" % (it, x, g(V,x)))\n",
    "        if (g(V, xplus)*g(V, x))>0:                      # Root in other half\n",
    "            xplus=x                            # Change x+ to x\n",
    "        else:\n",
    "            xminus=x                           # Change x- to x\n",
    "        if(xplus-xminus<eps):                           # Converged?\n",
    "            print(\"root found with precision eps = \",eps)\n",
    "            break\n",
    "        if it==Nmax-1:\n",
    "             print(\"root not found after Nmax iterations \")   \n",
    "    return x  \n",
    "\n",
    "bisection2(25, 40, 20, 1e-04)\n",
    "bisection2(50, 100, 20, 1e-04)\n",
    "bisection2(100, 150, 20, 1e-04)\n",
    "bisection2(150, 190, 20, 1e-04)"
   ]
  },
  {
   "cell_type": "markdown",
   "id": "aa3bfa61",
   "metadata": {},
   "source": [
    "### Comparison with theory\n",
    "\n",
    "With our notation for $E$ and $V_0$, we can write the usual infinite square well energies as \n",
    "$$ -\\left| E_n \\right| - V_0 = n^2 \\pi^2$$\n",
    "because $2m = \\hbar = a = 1$."
   ]
  },
  {
   "cell_type": "code",
   "execution_count": 4,
   "id": "45e89b4e",
   "metadata": {},
   "outputs": [
    {
     "name": "stdout",
     "output_type": "stream",
     "text": [
      "For the finite square well with V= -200.0\n",
      "E_n =  -31.638546  and n= 4.130203602611499\n",
      "E_n =  -96.145535  and n= 3.2438645656595684\n",
      "E_n =  -146.553707  and n= 2.3270671816806647\n",
      "E_n =  -180.672684  and n= 1.399380767964707\n"
     ]
    }
   ],
   "source": [
    "print(\"For the finite square well with V=\", -V)\n",
    "for En in (31.638546, 96.145535, 146.553707, 180.672684):\n",
    "    print(\"E_n = \", -En, \" and n=\", np.sqrt((V-En)/pow(np.pi,2)))"
   ]
  },
  {
   "cell_type": "markdown",
   "id": "bf11d590",
   "metadata": {},
   "source": [
    "We don't get exactly the integer values of n, but you do get closer and closer when the magnitude of $V$ is increased.\n",
    "\n",
    "Try $V=500$ and calculate those $n$ values. What do you find? Are the $n$ values closer to integer values?"
   ]
  },
  {
   "cell_type": "markdown",
   "id": "be79e0c2",
   "metadata": {},
   "source": [
    "## Physics Application: Interpolation of Cross Sections\n",
    "\n",
    "This table gives experimental values for a scattering cross section ($f(E)$\n",
    "in the theory), each with absolute error $\\pm\\sigma_i$, as a function of\n",
    "energy ($x_i$ in the theory).\n",
    "\n",
    "|$i=$ | 1|2|3|4|5|6|7|8|9|\n",
    "|- - -|- - -|- - -|- - -|- - -|- - -|- - -|- - -|- - -|- - -|\n",
    "|$E_i$ (MeV) |0|25|50|75|100|125|150|175|200|\n",
    "| $g(E_i)$(mb)|10.6|16.0|45.0|83.5|52.8|19.9|10.8|8.25|4.7|\n",
    "| Error (mb)|9.34|17.9 |41.5 |85.5|51.5|21.5|10.8 |6.29 |4.14|\n",
    "\n",
    "When we interpolate data, we simply want to know the value of $f(x)$ at some point between the given $x$ values, regardless of the error on each value.\n",
    "We call\n",
    "the independent variable $x$ and its tabulated values\n",
    "$x_i (i= 1,2, \\ldots)$, and we assume that the dependent variable is the\n",
    "function $g(x)$, with tabulated values $g_i = g(x_i)$. \n",
    "\n",
    "### Lagrange Polynomial Global Interpolation\n",
    "Given $N$ data points, we will assume that $g(x)$ can be approximated as a $(N-1)$-degree polynomial over the entire interval.\n",
    "Why is this at all reasonable?\n",
    "\n",
    "Now consider the expansion of a function at two points $x_1$ and $x_2$.  We would like to express the values of the function at those points in terms of the function and derivative at another point $x$.  The reason for this approach is that we already know the values $f(x_1)$ and $f(x_2)$; we want to find $f(x)$ and $f'(x)$ for other $x$.\n",
    "$$\\begin{align}\n",
    "f(x_1) &= f(x) + (x_1 - x) f'(x) + \\cdots \\\\\n",
    "f(x_2) &= f(x) + (x_2 - x) f'(x) + \\cdots\n",
    "\\end{align}$$\n",
    "\n",
    "For the purposes of interpolation and fitting, we would like to *approximate* the true function with an approximate polynomial function $p(x)$.  Because this $p(x)$ is a new function, we can define it in such a way that it satisfies the equality, without approximation.\n",
    "$$\\begin{align}\n",
    "f(x_1) &= p(x) + (x_1 - x) p'(x) \\\\\n",
    "f(x_2) &= p(x) + (x_2 - x) p'(x)\n",
    "\\end{align}$$\n",
    "\n",
    "These equations are two equations in two unknowns ($p$ and $p'$), with solution\n",
    "\n",
    "$$\n",
    "p(x) = \\frac{x-x_2}{x_1-x_2} f(x_1) + \\frac{x-x_1}{x_2-x_1} f(x_2)\n",
    "$$\n",
    "\n",
    "If you look closely, you'll realize that this is the equation for a line through the points $(x_1, f(x_1))$ and $(x_2, f(x_2))$.\n",
    "It corresponds to the assumption that the function $f$ can be approximated as a straight line in the interval $[x_1, x_2]$.\n",
    "The statement might be, \"For $N=2$ points, the function can be approximated as a polynomial of order $N-1=1$.\"\n",
    "\n",
    "To extend this idea to higher orders, we add more terms in the series expansion.  Each additional term brings a new equation and the possibility to solve for a new higher-order derivative.  For example, the equations\n",
    "\n",
    "$$\\begin{align}\n",
    "f(x_1) &= p(x) + (x_1 - x) p'(x) + \\frac{(x_1 -x )^2}{2} p''(x) \\cdots \\\\\n",
    "f(x_2) &= p(x) + (x_2 - x) p'(x) + \\frac{(x_2 -x )^2}{2} p''(x) \\cdots \\\\\n",
    "f(x_3) &= p(x) + (x_3 - x) p'(x) + \\frac{(x_3 -x )^2}{2} p''(x) \\cdots\n",
    "\\end{align}$$\n",
    "\n",
    "yield the solution\n",
    "\n",
    "$$\n",
    "p(x) = \\frac{(x-x_2)(x-x_3)}{(x_1-x_2)(x_1-x_3)}\\ f(x_1) + \\frac{(x-x_1)(x-x_3)}{(x_2-x_1)(x_2-x_3)}\\ f(x_2) + \\frac{(x-x_1)(x-x_2)}{(x_3-x_1)(x_3-x_2)}\\ f(x_3)\n",
    "$$\n",
    "\n",
    "This is the unique quadratic polynomial that passes through all three points.\n",
    "\n",
    "The general formula for the Lagrange polynomial of order $N-1$ is:\n",
    "\n",
    "$$\\begin{align}\n",
    "g(x) &\\simeq  g_{1}\\lambda_{1}(x) + g_{2}\\lambda_{2}(x) + \\cdots +\n",
    "g_{n}\\lambda_{n}(x),\\\\\n",
    "\\lambda_{i}(x) & =  \\prod_{j (\\neq i)=1}^{n}\n",
    "\\frac{x-x_{j}}{x_{i}-x_{j}} = \\frac{x-x_1} { x_i-x_1} \\frac{x-x_2}\n",
    "{ x_i-x_2} \\cdots \\frac{x-x_n} { x_i-x_n}\n",
    "\\end{align}$$\n",
    "\n",
    "Remember that the coefficients $g_i$ are the tabulated (known) values $g(x_i)$ for specific points $x_i$.\n",
    "\n",
    "Let's try an example now, with real numbers.\n",
    "\n",
    "Assume we are given the points and function values\n",
    "\n",
    "$$x_{1-4}  = (0 ,1 ,2, 4) \\qquad  g_{1-4}  =(-12,-12,-24,-60)$$\n",
    "\n",
    "With four points, the Lagrange formula determines a third-order\n",
    "polynomial that reproduces each of the tabulated values:\n",
    "\n",
    "$$\\begin{align}\n",
    "g(x) &=  \\frac{(x-1)(x-2)(x-4)}{(0-1)(0-2)(0-4)}(-12) +\n",
    "\\frac{x(x-2)(x-4)}{(1-0)(1-2)(1-4)}(-12)  \\\\\n",
    "&+ \\frac{x(x-1)(x-4)}{(2-0)(2-1)(2-4)}(-24) +\n",
    "\\frac{x(x-1)(x-2)}{(4-0)(4-1)(4-2)}(-60),  \\\\\n",
    "\\Rightarrow \\quad g(x) &=  x^{3} - 9x^{2} + 8x -12\n",
    "\\end{align}$$\n",
    "\n",
    "Keep in mind that the polynomial is only guaranteed to pass through the given points; its behavior everywhere else may be erratic.\n",
    "For an example, see the 8th-order polynomial function fit to the 9 points in the figure.\n",
    "\n",
    "<img src=\"Figures/Figure_7.5.png\" width=\"60%\">\n"
   ]
  },
  {
   "cell_type": "markdown",
   "id": "67a51ad2",
   "metadata": {},
   "source": [
    "### Natural Cubic Spline Local Interpolation\n",
    "\n",
    "A sophisticated variation of an $n=4$ interpolation, known as *cubic\n",
    "splines*, often leads to surprisingly eye-pleasing fits. In this\n",
    "approach, cubic polynomials are fit to the function ** separately in each local\n",
    "interval**, with the additional constraint that the first and second\n",
    "derivatives of the polynomials be continuous from one interval to the\n",
    "next. This continuity of slope and curvature is what makes the spline\n",
    "fit particularly pleasing to the eye.\n",
    "\n",
    "The series of cubic polynomials obtained by spline-fitting a table of\n",
    "data can be integrated and differentiated and is guaranteed to have\n",
    "well-behaved derivatives. The existence of meaningful derivatives is an\n",
    "important consideration. As a case in point, if the interpolated\n",
    "function is a potential, you can take the derivative to obtain the\n",
    "force.\n",
    "It is not easy to solve the equations and satisfy the matching conditions simultaneously, unless you have a computer!\n",
    "\n",
    "The basic form of the cubic spline is\n",
    "\n",
    "$$\n",
    "g_{i}(x) =  g_{i} +g_i^\\prime (x-x_{i})\n",
    "+\\frac{1}{2} g_{i}^{\\prime\\prime}(x-x_{i})^{2}\n",
    "+\\frac{1}{6}g_{i}^{\\prime\\prime\\prime}(x-x_{i})^{3}\n",
    "$$ \n",
    "\n",
    "but then additional conditions are needed to ensure continuity of the function and of the first and second derivatives.  \n",
    "\n",
    "The matching of the first *and* second derivatives at each interval’s\n",
    "boundaries provides the equations\n",
    "\n",
    "$$\n",
    "g_{i-1}^\\prime (x_{i}) = g_i^\\prime(x_{i}), \\quad g_{i-1}^{\\prime\\prime}(x_{i}) =\n",
    "g_{i}^{\\prime\\prime}(x_{i})\n",
    "$$\n",
    "\n",
    "The additional equations needed to determine all constants is obtained\n",
    "by matching the third derivatives at adjacent nodes. Values for the\n",
    "third derivatives are found by approximating them in terms of the second\n",
    "derivatives:\n",
    "\n",
    "$$\n",
    "g_{i}''' \\simeq \\frac{g_{i+1}'' - g_{i}''}{x_{i+1} - x_{i}}\n",
    "$$\n",
    "\n",
    "Even these constraints are not enough to solve for all of the unknowns: the matching at the boundaries provides only $N-2$ equations for $N$ unknowns.\n",
    "The remaining constraints come from boundary conditions at the edge of the interval.\n",
    "For the \"natural\" spline, the boundary conditions are chosen to be:\n",
    "\n",
    "$$g''(a) = g''(b) = 0$$\n",
    "\n",
    "(They were already required to be equal; in this case they are required to be 0.)"
   ]
  },
  {
   "cell_type": "markdown",
   "id": "3c7d08ee",
   "metadata": {},
   "source": [
    "### Implementation\n",
    "\n",
    "The implementation below follows a more efficient but less transparent algorithm, based on the algorithms in the *Numerical Recipes* chapter, \"Interpolation and Extrapolation.\"  You are free to adapt this code for any fitting problems."
   ]
  },
  {
   "cell_type": "code",
   "execution_count": 7,
   "id": "a8af4e9f",
   "metadata": {},
   "outputs": [
    {
     "data": {
      "image/png": "[encoded data removed]",
      "text/plain": [
       "<Figure size 432x288 with 1 Axes>"
      ]
     },
     "metadata": {
      "needs_background": "light"
     },
     "output_type": "display_data"
    }
   ],
   "source": [
    "# Cubic Spline Interpolation\n",
    "# Adapted from Landau et al.\n",
    "\n",
    "import numpy as np\n",
    "import matplotlib.pyplot as plt\n",
    "\n",
    "x = np.array([0., 0.12, 0.25, 0.37, 0.5, 0.62, 0.75, 0.87, 0.99])    # input\n",
    "y = np.array([10.6, 16.0, 45.0, 83.5, 52.8, 19.9, 10.8, 8.25, 4.7])\n",
    "n = 9 # number of data points\n",
    "Nfit = 100 # number of evaluation points for plot\n",
    "\n",
    "y2 = np.zeros((n), float)\n",
    "u = np.zeros((n), float)\n",
    "\n",
    "# output fit values\n",
    "xout = np.zeros((Nfit+2), float)\n",
    "yout = np.zeros((Nfit+2), float)\n",
    "\n",
    "fig,ax = plt.subplots()\n",
    "ax.plot(x, y, 'ro')\n",
    "\n",
    "# Filling polynomial sequence for all n, with special case for n=1\n",
    "yp1 = (y[1]-y[0])/(x[1]-x[0]) - (y[2]-y[1])/(x[2]-x[1]) + (y[2]-y[0])/(x[2]-x[0])\n",
    "ypn = (y[n-1]-y[n-2])/(x[n-1]-x[n-2]) - (y[n-2]-y[n-3])/(x[n-2]-x[n-3]) + \\\n",
    "      (y[n-1]-y[n-3])/(x[n-1]-x[n-3])\n",
    "\n",
    "# This block uses decomposition method to solve the tridiagonal system of N equations\n",
    "for i in range(1, n - 1):\n",
    "        sig = (x[i] - x[i - 1])/(x[i + 1] - x[i - 1]) \n",
    "        p = sig*y2[i - 1] + 2. \n",
    "        y2[i] = (sig - 1.)/p \n",
    "        u[i] = (y[i+1] - y[i])/(x[i+1] - x[i]) - (y[i] - y[i-1])/(x[i] - x[i-1]) \n",
    "        u[i] = (6.*u[i]/(x[i + 1] - x[i - 1]) - sig*u[i - 1])/p\n",
    "        qn=0.5\n",
    "        un=(3/(x[n-1]-x[n-2]))*(ypn-(y[n-1]-y[n-2])/(x[n-1]-x[n-2]))\n",
    "\n",
    "y2[n - 1] = (un - qn*u[n - 2])/(qn*y2[n - 2] + 1.)\n",
    "\n",
    "for k in range(n - 2, 1,  - 1):\n",
    "        y2[k] = y2[k]*y2[k + 1] + u[k]\n",
    "\n",
    "for i in range(1, Nfit + 2):            # initialization ends, begin fit\n",
    "        xout[i] = x[0] + (x[n - 1] - x[0])*(i - 1)/(Nfit) \n",
    "        # Bisection algorithm to find the correct interval for this xout\n",
    "        klo = 0;    khi = n - 1         \n",
    "        while (khi - klo >1):\n",
    "            k = (khi + klo) >> 1\n",
    "            if (x[k] > xout[i]): \n",
    "                khi  = k\n",
    "            else: \n",
    "                klo = k\n",
    "        h = x[khi] - x[klo] \n",
    "        if (x[k] > xout[i]):  \n",
    "            khi = k\n",
    "        else: \n",
    "            klo = k \n",
    "        h = x[khi] - x[klo]\n",
    "        a = (x[khi] - xout[i])/h \n",
    "        b = (xout[i] - x[klo])/h\n",
    "        # This is the implementation of the spline itself\n",
    "        yy = (a*y[klo]+b*y[khi] + ((a**3-a)*y2[klo] + \n",
    "                 (b**3-b)*y2[khi])*(h*h)/6.)\n",
    "        yout[i]=yy\n",
    "ax.plot(xout,yout,'b',lw=2)\n",
    "plt.xlabel(\"x\")\n",
    "plt.ylabel(\"y\")\n",
    "plt.show()\n"
   ]
  },
  {
   "cell_type": "markdown",
   "id": "740b8665",
   "metadata": {},
   "source": [
    "## Python Implementations\n",
    "\n",
    "For completeness, we provide the references to the corresponding SciPy routines.\n",
    "\n",
    "### Root-Finding Routines\n",
    "\n",
    "The simple Newton-Raphson method is implemented as `scipy.optimize.newton`.  See \n",
    "[scipy.optimize reference guide](https://docs.scipy.org/doc/scipy/reference/generated/scipy.optimize.newton.html)\n",
    "This implementation requires a preliminary guess that is not too far away from the actual zero."
   ]
  },
  {
   "cell_type": "code",
   "execution_count": 8,
   "id": "c37b77cf",
   "metadata": {},
   "outputs": [
    {
     "name": "stdout",
     "output_type": "stream",
     "text": [
      "163.26530612244895\n"
     ]
    }
   ],
   "source": [
    "from scipy.optimize import newton\n",
    "def y(x): # Test function, projectile motion\n",
    "    g = 9.8\n",
    "    v0 = 40.\n",
    "    theta = 45. * np.pi/180.\n",
    "    return np.tan(theta)*x - g/(2*pow(v0*np.cos(theta),2))*x*x\n",
    "\n",
    "preliminary_guess = 120.\n",
    "root = newton(y, preliminary_guess)\n",
    "print(root)"
   ]
  },
  {
   "cell_type": "markdown",
   "id": "a80eda85",
   "metadata": {},
   "source": [
    "But be careful!  These root-finding methods can get confused.  Plotting the function, if you can, is always a good check.  Other root finders in `scipy.optimize` are most robust and complicated."
   ]
  },
  {
   "cell_type": "code",
   "execution_count": 9,
   "id": "7b3280a1",
   "metadata": {},
   "outputs": [
    {
     "name": "stdout",
     "output_type": "stream",
     "text": [
      "6.108467017547629\n",
      "18.36051985246666\n",
      "6.108467017547629\n",
      "18.36051985246672\n"
     ]
    },
    {
     "name": "stderr",
     "output_type": "stream",
     "text": [
      "C:\\Users\\palec\\AppData\\Local\\Temp/ipykernel_20856/1082421133.py:3: RuntimeWarning: divide by zero encountered in true_divide\n",
      "  return np.sqrt(E)/np.tan(np.sqrt(V-E)) - np.sqrt(V-E)\n"
     ]
    },
    {
     "data": {
      "image/png": "[encoded data removed]",
      "text/plain": [
       "<Figure size 432x288 with 1 Axes>"
      ]
     },
     "metadata": {
      "needs_background": "light"
     },
     "output_type": "display_data"
    }
   ],
   "source": [
    "def g(E): # test function, finite square well\n",
    "    V = 20\n",
    "    return np.sqrt(E)/np.tan(np.sqrt(V-E)) - np.sqrt(V-E)\n",
    "\n",
    "print(newton(g, 5.))\n",
    "print(newton(g, 18.))\n",
    "print(newton(g, 10.))\n",
    "print(newton(g, 11.))\n",
    "\n",
    "new_xvalues = np.linspace(0,20)\n",
    "new_fvalues = g(new_xvalues)\n",
    "plt.plot(new_xvalues, new_fvalues)\n",
    "plt.show()"
   ]
  },
  {
   "cell_type": "markdown",
   "id": "7f06d1ae",
   "metadata": {},
   "source": [
    "### Cubic Spline Fitting Routines\n",
    "\n",
    "The cubic spline fitting routine is implemented as `scipy.interpolate.CubicSpline`.  See\n",
    "[scipy.interpolate reference guide](https://docs.scipy.org/doc/scipy/reference/generated/scipy.interpolate.CubicSpline.html) for more details and default values."
   ]
  },
  {
   "cell_type": "code",
   "execution_count": 13,
   "id": "56b5edb8",
   "metadata": {},
   "outputs": [
    {
     "data": {
      "image/png": "[encoded data removed]",
      "text/plain": [
       "<Figure size 432x288 with 1 Axes>"
      ]
     },
     "metadata": {
      "needs_background": "light"
     },
     "output_type": "display_data"
    }
   ],
   "source": [
    "from scipy.interpolate import CubicSpline\n",
    "x = np.array([0., 0.12, 0.25, 0.37, 0.5, 0.62, 0.75, 0.87, 0.99])\n",
    "y = np.array([10.6, 16.0, 45.0, 83.5, 52.8, 19.9, 10.8, 8.25, 4.7])\n",
    "cs = CubicSpline(x, y) # same table of tabulated values\n",
    "plt.plot(x, y, 'o', label='data')\n",
    "plt.plot(xout, cs(xout), label='spline')\n",
    "plt.legend()\n",
    "plt.xlabel('x')\n",
    "plt.ylabel('y')\n",
    "plt.show()"
   ]
  },
  {
   "cell_type": "markdown",
   "id": "41ac5733",
   "metadata": {},
   "source": [
    "# Discussion of Term Project"
   ]
  },
  {
   "cell_type": "markdown",
   "id": "a70fb80c",
   "metadata": {},
   "source": [
    "One of the major assignments of the Computational Physics course is the term project. This project should use some of the advanced concepts from class to implement a new algorithm or apply numerical methods to a physics or astrophysics problem. The time required for the project should be about the same as a homework exercise set, but it is spread throughout the second half of the quarter.\n",
    "\n",
    "The topic for the project can be anything -- deeper exploration of a topic we covered in the course, independent study of a textbook chapter that we did not cover, or application of numerical methods to your own physics research project. Some possibilities are collected in the list below.\n",
    "\n",
    "* Research the development of unum as an alternative to the IEEE floating-point standard. How does it work, and why does it promise \"the end of error?\"\n",
    "* Implement the use of quasi-random sequences in Monte Carlo integration. Is the convergence different from the convergence with pseudo-random sequences?\n",
    "* Develop a Monte Carlo decay chain for a transuranic radioisotope decay chain. This should take into account different decay constants for each isotope, the next step in the decay chain, and keeping track of the different isotope populations on long and short timescales.\n",
    "* Filtering noisy signals using digital filters (Landau et al., Chapter 12)\n",
    "* Exploration of wavelet transforms and wavelet basis functions (Landau et al., Chapter 13)\n",
    "* Analysis of the chaotic motion of a double pendulum (Landau et al., Chapter 15)\n",
    "* Applications of the Verlet algorithm in molecular dynamics (Landau et al., Chapter 18)\n",
    "* Investigation of heat flow using the leapfrog method (Landau et al., Chapter 20)\n",
    "* Exploration of adaptive integration methods (adaptive quadrature)\n",
    "* Investigation of allowed energy levels in the Kronig-Penney model (Kittel)\n",
    "* Least-squares fit to data with polynomials and Chebyshev polynomials\n",
    "* Time evolution of a quantum mechanical wave packet interacting with a potential step or a finite square well\n",
    "* Classical scattering from a central potential (electrostatic or gravitational)\n",
    "* Born cross section for quantum scattering from a central potential\n",
    "* Calculation of electrostatic potential for systems with circular symmetry\n",
    "* Calculation of electrostatic potential with adaptive mesh/grid\n",
    "\n",
    "In order to plan ahead for the project well in advance, you will submit a \"Term Project Proposal\" this week outlining the proposed project and its connection to computational physics. The proposal should be 2-3 pages, including a bibliography of primary references (books or journal articles). The project report itself, submitted near the end of the quarter, will of course be much longer, probably 5-10 pages.\n",
    "\n",
    "Please include the following information in your proposal:\n",
    "\n",
    "* Introduction to the project. This includes a short broad summary of the problem or challenge and the proposed solution. The summary will be expanded in the subsequent sections of the proposal\n",
    "* Background and motivation. This includes an explanation of why the problem is interesting, and why the solution is not trivial to calculate. What literature exists describing the proposed methods?  How is the proposed method expected to yield a reasonable result?\n",
    "* Project summary. Give a short summary of what you hope to accomplish with this project. What will be the end result? How will you know if you have been successful?\n",
    "* Project details. Describe the expected implementation, including any known methods. Are there any notable challenges to overcome?\n",
    "* References. Even if the main reference is the textbook, please make an effort to track down some of the articles in the literature that focus on the topic. You should have 3-5 references at this stage.\n",
    "\n",
    "Your proposal can include figures if they help to describe the project, but you are not expected to do a lot of coding work to produce those figures.\n",
    "\n",
    "Please submit a PDF version of your proposal on Canvas. The grade for the proposal will be wrapped with the grade for the term project report, combining to form 15% of the course grade."
   ]
  }
 ],
 "metadata": {
  "kernelspec": {
   "display_name": "Python 3 (ipykernel)",
   "language": "python",
   "name": "python3"
  },
  "language_info": {
   "codemirror_mode": {
    "name": "ipython",
    "version": 3
   },
   "file_extension": ".py",
   "mimetype": "text/x-python",
   "name": "python",
   "nbconvert_exporter": "python",
   "pygments_lexer": "ipython3",
   "version": "3.9.7"
  }
 },
 "nbformat": 4,
 "nbformat_minor": 5
}
