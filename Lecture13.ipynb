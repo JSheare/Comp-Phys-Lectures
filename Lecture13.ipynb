{
 "cells": [
  {
   "cell_type": "markdown",
   "id": "f325bd06",
   "metadata": {},
   "source": [
    "# *Lecture 13*\n",
    "\n",
    "# Multivariate Functions and Monte Carlo Methods\n",
    "\n",
    "### Introduction\n",
    "\n",
    "We saw how to minimize a multivariate function by using a gradient approach.\n",
    "Today we see another application from physics.\n",
    "\n",
    "We also return to Monte Carlo integration to prepare for multidimensional Monte Carlo integration."
   ]
  },
  {
   "cell_type": "markdown",
   "id": "f4826086",
   "metadata": {},
   "source": [
    "## Application: Maximum Likelihood Estimator in Higgs Boson Search\n",
    "\n",
    "In a search for new particles, we expect the observed data to be composed of \"signal\" and \"background\" events.\n",
    "If we have some way to estimate the expected background contribution $b$, then we can use the observed number of data events $n$ to provide an estimate of the number of signal events $s$.\n",
    "The most likely value of $s$ is the one that maximizes the likelihood function based on the Poisson probability:\n",
    "\n",
    "$$L(n,s,b) = \\frac{e^{-s-b} (s+b)^n}{n!}$$\n",
    "\n",
    "It is more common to minimize $-\\ln L$ in this calculation.\n",
    "\n",
    "$$\\ln L(n,s) = -s -b + n\\ln(s+b) - \\ln n!$$\n",
    "$$-\\ln L(n,s) = s +b - n\\ln(s+b) + \\ln n!$$\n",
    "\n",
    "In this case, we can even calculate the derivative analytically:\n",
    "\n",
    "$$\\frac{\\partial \\ln L}{\\partial s} = -1 + \\frac{n}{s+b}$$\n"
   ]
  },
  {
   "cell_type": "code",
   "execution_count": 1,
   "id": "cf198023",
   "metadata": {},
   "outputs": [
    {
     "name": "stdout",
     "output_type": "stream",
     "text": [
      "1.4976272582507701\n",
      "-0.034482758620689724\n"
     ]
    }
   ],
   "source": [
    "import numpy as np\n",
    "from math import factorial\n",
    "def lnL(n, s, b):\n",
    "    return s + b - n*np.log(s+b) + np.log(factorial(n))\n",
    "\n",
    "def dlnLds(n, s, b):\n",
    "    return 1 - n/(s+b)\n",
    "\n",
    "# some tests of the functions\n",
    "print(lnL(3, 1.0, 1.9))\n",
    "print(dlnLds(3, 1.0, 1.9))"
   ]
  },
  {
   "cell_type": "code",
   "execution_count": 2,
   "id": "b3bfd17b",
   "metadata": {},
   "outputs": [
    {
     "data": {
      "image/png": "[encoded data removed]",
      "text/plain": [
       "<Figure size 432x288 with 1 Axes>"
      ]
     },
     "metadata": {
      "needs_background": "light"
     },
     "output_type": "display_data"
    }
   ],
   "source": [
    "import matplotlib.pyplot as plt\n",
    "nobs = 3\n",
    "nbkg = 1.9\n",
    "svalues = np.linspace(-1, 4, 100)\n",
    "plt.plot(svalues, lnL(nobs, svalues, nbkg))\n",
    "plt.xlabel('nSignal')\n",
    "plt.ylabel('-ln L')\n",
    "plt.grid(); plt.show()"
   ]
  },
  {
   "cell_type": "markdown",
   "id": "9c4c9d2b",
   "metadata": {},
   "source": [
    "The `nSignal` value that minimizes $-\\ln L$ is the most probable value.\n",
    "You may also remember that $\\pm 1 \\sigma$ corresponds to 0.5 units of $\\ln L$ above the minimum.\n",
    "How can we find the correct measurement, with uncertainties?\n",
    "Clearly we should look for the point where $\\partial \\ln L/\\partial s = 0$."
   ]
  },
  {
   "cell_type": "code",
   "execution_count": 3,
   "id": "ba4e8394",
   "metadata": {},
   "outputs": [
    {
     "name": "stdout",
     "output_type": "stream",
     "text": [
      "Iteration  0  s =  0.0 , dlnLds(s) =  -0.5789473684210527\n",
      "Iteration  1  s =  0.70033333333334 , dlnLds(s) =  -0.1536982438148926\n",
      "Iteration  2  s =  1.1400554814814827 , dlnLds(s) =  0.013175904757489199\n",
      "Root found at s = 1.09359, F = -2.13987e-03, tolerance eps = 1.000000e-02\n"
     ]
    }
   ],
   "source": [
    "s = 0. # starting point\n",
    "ds = 0.01\n",
    "eps = 0.01\n",
    "imax = 10\n",
    "\n",
    "# Find the most probable value\n",
    "for it in range(0, imax + 1):\n",
    "    F = dlnLds(nobs, s, nbkg)\n",
    "    if ( abs(F) <= eps ):                         # Check for convergence\n",
    "        print(\"Root found at s = %.5f, F = %.5e, tolerance eps = %e\" % (s, F, eps)) \n",
    "        break\n",
    "    print(\"Iteration \", it, \" s = \", s, \", dlnLds(s) = \", F)\n",
    "    df = (dlnLds(nobs, s + ds, nbkg) - dlnLds(nobs, s, nbkg))/ds\n",
    "    ds = - F/df \n",
    "    s += ds                                               # New guess\n",
    "    \n",
    "signal_mpv = s"
   ]
  },
  {
   "cell_type": "code",
   "execution_count": 4,
   "id": "d6878edd",
   "metadata": {},
   "outputs": [
    {
     "name": "stdout",
     "output_type": "stream",
     "text": [
      "minL value is 1.4959294522514823\n",
      "iteration  0: x = 0.046797 and f(x) = -0.255929\n",
      "iteration  1: x = -0.476601 and f(x) =  0.160087\n",
      "iteration  2: x = -0.214902 and f(x) = -0.084543\n",
      "iteration  3: x = -0.345752 and f(x) =  0.027102\n",
      "iteration  4: x = -0.280327 and f(x) = -0.031170\n",
      "iteration  5: x = -0.313039 and f(x) = -0.002671\n",
      "iteration  6: x = -0.329396 and f(x) =  0.012053\n",
      "iteration  7: x = -0.321218 and f(x) =  0.004651\n",
      "root found with precision eps =  0.01\n",
      "iteration  0: x = 2.546797 and f(x) = -0.233925\n",
      "iteration  1: x = 3.273399 and f(x) =  0.038639\n",
      "iteration  2: x = 2.910098 and f(x) = -0.106224\n",
      "iteration  3: x = 3.091748 and f(x) = -0.035780\n",
      "iteration  4: x = 3.182573 and f(x) =  0.000950\n",
      "iteration  5: x = 3.137161 and f(x) = -0.017537\n",
      "iteration  6: x = 3.159867 and f(x) = -0.008324\n",
      "iteration  7: x = 3.171220 and f(x) = -0.003694\n",
      "iteration  8: x = 3.176897 and f(x) = -0.001374\n",
      "root found with precision eps =  0.01\n",
      "-0.3212175404799289 3.1768967643398214\n"
     ]
    }
   ],
   "source": [
    "# Now find the places where ln L changes by 0.5 units.\n",
    "minL = lnL(nobs, signal_mpv, nbkg)\n",
    "print(\"minL value is\", minL)\n",
    "\n",
    "def f(s):\n",
    "    return lnL(nobs, s, nbkg) - minL - 0.5\n",
    "\n",
    "def bisection(xminus, xplus, Nmax, eps):       # x-,x+ Nmax error\n",
    "    for it in range(0,Nmax):\n",
    "        x=(xminus+xplus)/2                     # Mid point\n",
    "        print(\"iteration %2d: x = %.6f and f(x) = %9.6f\" % (it, x, f(x)))\n",
    "        if (f(xplus)*f(x)>0):                      # Root in other half\n",
    "            xplus=x                            # Change x+ to x\n",
    "        else:\n",
    "            xminus=x                           # Change x- to x\n",
    "        if(xplus-xminus<eps):                           # Converged?\n",
    "            print(\"root found with precision eps = \",eps)\n",
    "            break\n",
    "        if it==Nmax-1:\n",
    "             print(\"root not found after Nmax iterations \")   \n",
    "    return x\n",
    "\n",
    "minus1sigma = bisection(-1., signal_mpv, 1000, 0.01)\n",
    "plus1sigma  = bisection(signal_mpv, 4., 1000, 0.01)\n",
    "print(minus1sigma, plus1sigma)"
   ]
  },
  {
   "cell_type": "code",
   "execution_count": 5,
   "id": "14ca7099",
   "metadata": {},
   "outputs": [
    {
     "name": "stdout",
     "output_type": "stream",
     "text": [
      "The fitted value for the Higgs signal is 1.09 (+ -1.41 - 2.08)\n"
     ]
    }
   ],
   "source": [
    "print(\"The fitted value for the Higgs signal is %.2f (+ %.2f - %.2f)\" \n",
    "          % (signal_mpv, minus1sigma-signal_mpv, plus1sigma-signal_mpv))"
   ]
  },
  {
   "cell_type": "markdown",
   "id": "e7ea9e3d",
   "metadata": {},
   "source": [
    "The fitted value for the Higgs signal is $1.09 ^{+2.08} _{-1.41}$ events."
   ]
  },
  {
   "cell_type": "markdown",
   "id": "451473fe",
   "metadata": {},
   "source": [
    "# Follow-up on Monte Carlo Methods\n",
    "\n",
    "In previous lectures, we introduced Monte Carlo methods to accomplish two purposes:\n",
    "* numerically integrate a function without recourse to analytic expansions like the trapezoid rule, Simpson's rule\n",
    "* simulate physical states contributing to the integration\n",
    "\n",
    "In some cases, the physics state configurations are as important or more important than the integrand.\n",
    "There was a taste of this in the Markov chain Monte Carlo method (Metropolis algorithm), in which new states were created and explored algorithmically without too much input from us.\n",
    "\n",
    "The functional integrations were all 1-dimensional, just to introduce the methods."
   ]
  },
  {
   "cell_type": "markdown",
   "id": "fb2b30ce",
   "metadata": {},
   "source": [
    "## Recap of 1-D MC Convergence\n",
    "\n",
    "$$\\int_0^\\pi \\sin x\\ dx$$\n",
    "\n",
    "In Exercise Set \\#3, you estimated a certain integral using MC methods  and found the dependence of the error on $N$.  Let's recap what we expect for convergence of the numerical integration algorithms.\n",
    "\n",
    "For the trapezoid method, which uses a linear approximation of the function, we expect the error to scale as $1/N^2$.  (For Simpson's method it was $1/N^4$.)\n",
    "\n",
    "<img src=\"Figures/Trapezoid_rule.png\" width=\"50%\">\n",
    "\n",
    "For the Monte Carlo method, you showed that the convergence was $1/\\sqrt{N}$.\n",
    "This is not as good as the other methods in 1-D cases."
   ]
  },
  {
   "cell_type": "code",
   "execution_count": 6,
   "id": "cbe03fc3",
   "metadata": {},
   "outputs": [],
   "source": [
    "import numpy as np\n",
    "import random\n",
    "\n",
    "def f(x):\n",
    "    return np.sin(x)\n",
    "\n",
    "def wTrap(i, h, N):                # Total weight definition function\n",
    "    if ( (i == 1) or (i == N) ):\n",
    "        wTotal = h/2.0\n",
    "    else:\n",
    "        wTotal = h\n",
    "    return wTotal\n",
    "\n",
    "def integration_trapezoid(f, a, b, N):\n",
    "    h = (b - a)/(N - 1)\n",
    "    sum = 0.\n",
    "    for i in range(1, N + 1):\n",
    "        t = a + (i - 1)*h\n",
    "        this_term = wTrap(i, h, N) * f(t)\n",
    "        sum  += this_term\n",
    "    result = sum\n",
    "    error = abs(result - 2.000)\n",
    "    return (result, error)\n",
    "\n",
    "def integration_MC(f, a, b, N):\n",
    "    sum = 0.\n",
    "    sum2 = 0.\n",
    "    for i in range(N):\n",
    "        x = random.uniform(a, b)\n",
    "        sum += f(x)\n",
    "        sum2 += pow(f(x),2)\n",
    "    result = (b - a) * sum/N\n",
    "    sigma = (b - a) * np.sqrt((sum2/N - pow(sum/N,2))/N)\n",
    "    error = abs(result - 2.000)\n",
    "    return (result, error)"
   ]
  },
  {
   "cell_type": "code",
   "execution_count": 7,
   "id": "f3333ce0",
   "metadata": {},
   "outputs": [
    {
     "name": "stdout",
     "output_type": "stream",
     "text": [
      "N = 10\n",
      "Trap: (1.9796508112164835, 0.020349188783516547)\n",
      " MC : (1.7705797062849384, 0.22942029371506156)\n",
      "N = 100\n",
      "Trap: (1.9998321638939918, 0.0001678361060082345)\n",
      " MC : (1.946511059796887, 0.0534889402031129)\n",
      "N = 1000\n",
      "Trap: (1.9999983517708506, 1.6482291493868928e-06)\n",
      " MC : (2.0023922915295196, 0.0023922915295195857)\n",
      "N = 10000\n",
      "Trap: (1.999999983547363, 1.6452637030539563e-08)\n",
      " MC : (1.987793244049618, 0.012206755950382009)\n",
      "N = 100000\n",
      "Trap: (1.9999999998355142, 1.6448575834715484e-10)\n",
      " MC : (2.000677372115895, 0.0006773721158950252)\n"
     ]
    }
   ],
   "source": [
    "for N in np.logspace(1, 5, num=5, dtype=int):\n",
    "    print(\"N =\", N)\n",
    "    print(\"Trap:\", integration_trapezoid(f, 0, np.pi, N))\n",
    "    print(\" MC :\", integration_MC(f, 0, np.pi, N))"
   ]
  },
  {
   "cell_type": "markdown",
   "id": "35e09951",
   "metadata": {},
   "source": [
    "I don't even have to make a plot here for us to see the trend with $N$.  You can see that the error from the trapezoid decreases by a factor of 100 each time, while the error from the MC method decreases by a factor of $\\sqrt{10}\\approx 3$ each time, on average.\n",
    "\n",
    "You might notice that the convergence of the MC method is not as smooth and reliable.\n",
    "Sometimes the error decreases by a factor of 8, and sometimes hardly at all.  This is just a consequence of the pseudo-random number chosen as part of the uniform sampling.\n",
    "The result seems trustworthy only for a large number of points.\n",
    "\n",
    "Can we do better?"
   ]
  },
  {
   "cell_type": "markdown",
   "id": "9d070a97",
   "metadata": {},
   "source": [
    "## Quasi-Monte-Carlo Methods\n",
    "\n",
    "The idea of the quasi-Monte-Carlo methods is to replace the random number sequence with a sequence that covers the domain more uniformly and predictably.\n",
    "\n",
    "This does not go against the Monte Carlo method: random numbers were just a convenient way of sampling the space efficiently.\n",
    "If we have a more efficient way, then we should use it.\n",
    "\n",
    "### Low-Discrepancy Number Sequences\n",
    "\n",
    "\"Low discrepancy\" means that a sequence is unlikely to have clusters in any dimension.\n",
    "Two of the most commonly-used sequences are the \n",
    "[Halton sequence](https://en.wikipedia.org/wiki/Halton_sequence\") and the [Sobol sequence](https://en.wikipedia.org/wiki/Sobol_sequence).\n",
    "We will focus on the Halton sequence because it has a simpler implementation.\n",
    "\n",
    "The Halton sequence is the N-dimensional version of this kind of sequence:\n",
    "\n",
    "$$\\frac{1}{2}, \\frac{1}{4}, \\frac{3}{4}, \\frac{1}{8}, \\frac{5}{8}, \\frac{3}{8}, \\frac{7}{8}$$\n",
    "\n",
    "by which the interval is covered uniformly, but not really \"randomly.\"\n",
    "(Note that the long-range correlations, which might seem large at first, disappear as more terms are added.)"
   ]
  },
  {
   "cell_type": "code",
   "execution_count": 8,
   "id": "107c50e5",
   "metadata": {},
   "outputs": [],
   "source": [
    "def halton(dim, nbpts):\n",
    "    # Author: Sebastien Paris\n",
    "    # Translation from C: Josef Perktold\n",
    "    h = np.empty(nbpts * dim)\n",
    "    h.fill(np.nan)\n",
    "    p = np.empty(nbpts)\n",
    "    p.fill(np.nan)\n",
    "    P = [2, 3, 5, 7, 11, 13, 17, 19, 23, 29, 31]\n",
    "    lognbpts = np.log(nbpts + 1)\n",
    "    for i in range(dim):\n",
    "        b = P[i]\n",
    "        n = int(np.ceil(lognbpts / np.log(b)))\n",
    "        for t in range(n):\n",
    "            p[t] = pow(b, -(t + 1) )\n",
    "\n",
    "        for j in range(nbpts):\n",
    "            d = j + 1\n",
    "            sum_ = np.fmod(d, b) * p[0]\n",
    "            for t in range(1, n):\n",
    "                d = np.floor(d / b)\n",
    "                sum_ += np.fmod(d, b) * p[t]\n",
    "\n",
    "            h[j*dim + i] = sum_\n",
    "\n",
    "    return h.reshape(nbpts, dim)"
   ]
  },
  {
   "cell_type": "code",
   "execution_count": 9,
   "id": "be8b1149",
   "metadata": {},
   "outputs": [
    {
     "name": "stdout",
     "output_type": "stream",
     "text": [
      "[[0.5        0.33333333]\n",
      " [0.25       0.66666667]\n",
      " [0.75       0.11111111]\n",
      " [0.125      0.44444444]\n",
      " [0.625      0.77777778]]\n",
      "[[0.64438613 0.82136553]\n",
      " [0.69149624 0.89739454]\n",
      " [0.73556475 0.6289532 ]\n",
      " [0.43019739 0.0240197 ]\n",
      " [0.03117315 0.35771961]]\n"
     ]
    },
    {
     "data": {
      "image/png": "[encoded data removed]",
      "text/plain": [
       "<Figure size 576x288 with 2 Axes>"
      ]
     },
     "metadata": {
      "needs_background": "light"
     },
     "output_type": "display_data"
    }
   ],
   "source": [
    "x_halton = halton(2, 5000);\n",
    "print(x_halton[:5])\n",
    "\n",
    "x_random = np.random.random((5000,2))\n",
    "print(x_random[:5])\n",
    "\n",
    "import matplotlib.pyplot as plt\n",
    "plt.figure(figsize=(8,4))\n",
    "\n",
    "plt.subplot(1,2,1)\n",
    "plt.plot(x_halton[:500, 0], x_halton[:500, 1], '+')\n",
    "plt.title('uniform Halton distribution')\n",
    "\n",
    "plt.subplot(1,2,2)\n",
    "plt.plot(x_random[:500, 0], x_random[:500, 1], '+')\n",
    "plt.title('uniform random distribution')\n",
    "\n",
    "plt.show()"
   ]
  },
  {
   "cell_type": "markdown",
   "id": "20761f51",
   "metadata": {},
   "source": [
    "Now let's use this new quasi-random number sequence in \"quasi-Monte Carlo\" integration.  The general formula for Monte Carlo integration is the same, only the $x_i$ values are new."
   ]
  },
  {
   "cell_type": "code",
   "execution_count": 10,
   "id": "09e3d62b",
   "metadata": {},
   "outputs": [
    {
     "name": "stdout",
     "output_type": "stream",
     "text": [
      "N = 10\n",
      "Trap: (1.9796508112164835, 0.020349188783516547)\n",
      "  MC: (1.8399020787068832, 0.16009792129311684)\n",
      " qMC: (2.210011379535336, 0.21001137953533622)\n",
      "N = 100\n",
      "Trap: (1.9998321638939918, 0.0001678361060082345)\n",
      "  MC: (1.895837309817938, 0.10416269018206203)\n",
      " qMC: (2.0118825351761593, 0.011882535176159337)\n",
      "N = 1000\n",
      "Trap: (1.9999983517708506, 1.6482291493868928e-06)\n",
      "  MC: (2.069158104110927, 0.06915810411092682)\n",
      " qMC: (2.000964010571766, 0.000964010571765872)\n",
      "N = 10000\n",
      "Trap: (1.999999983547363, 1.6452637030539563e-08)\n",
      "  MC: (2.0186724636421314, 0.018672463642131376)\n",
      " qMC: (2.0000273831076245, 2.738310762451235e-05)\n",
      "N = 100000\n",
      "Trap: (1.9999999998355142, 1.6448575834715484e-10)\n",
      "  MC: (2.0029076128045604, 0.002907612804560422)\n",
      " qMC: (2.000001980817679, 1.9808176792146526e-06)\n"
     ]
    }
   ],
   "source": [
    "def integration_qMC(f, a, b, N):\n",
    "    sum = 0.\n",
    "    sum2 = 0.\n",
    "    x_halton = halton(1,N) # on interval [0,1]\n",
    "    for i in range(N):\n",
    "        x = x_halton[i,0]*(b-a) + a\n",
    "        sum += f(x)\n",
    "        sum2 += pow(f(x),2)\n",
    "    result = (b - a) * sum/N\n",
    "    sigma = (b - a) * np.sqrt((sum2/N - pow(sum/N,2))/N)\n",
    "    error = abs(result - 2.000)\n",
    "    return (result, error)\n",
    "\n",
    "for N in np.logspace(1, 5, num=5, dtype=int):\n",
    "    print(\"N =\", N)\n",
    "    print(\"Trap:\", integration_trapezoid(f, 0, np.pi, N))\n",
    "    print(\"  MC:\", integration_MC(f, 0, np.pi, N))\n",
    "    print(\" qMC:\", integration_qMC(f, 0, np.pi, N))"
   ]
  },
  {
   "cell_type": "markdown",
   "id": "d9fe5839",
   "metadata": {},
   "source": [
    "We see that, unlike the trapezoid or the MC, the quasi-MC has errors that scale as $1/N$.\n",
    "This is slower than the trapezoid (in 1 dimension) but faster than the pseudo-random MC.\n",
    "For this reason, many people have turned to quasi-MC to provide random numbers for Monte Carlo techniques.\n",
    "\n",
    "(Note: this particular implementation of the quasi-random number generation is very slow, much slower than the efficient standard Python `random` function for pseudo-random number generation.)"
   ]
  },
  {
   "cell_type": "markdown",
   "id": "360131cb",
   "metadata": {},
   "source": [
    "## SciPy implementation of Quasi-Random sequences\n",
    "\n",
    "SciPy has at long last a [Quasi-Monte Carlo submodule](https://scipy.github.io/devdocs/reference/stats.qmc.html), with engines for Sobol, Halton, and other sequences.\n",
    "The syntax is slightly different from the syntax we used above.\n",
    "Here we demonstrate the use of `scipy.stats.qmc` for Monte Carlo integration.\n",
    "\n",
    "The key is to initialize your choice of QMC engine first, and then draw sequences from that engine."
   ]
  },
  {
   "cell_type": "code",
   "execution_count": 11,
   "id": "6f026f30",
   "metadata": {},
   "outputs": [
    {
     "name": "stderr",
     "output_type": "stream",
     "text": [
      "C:\\Users\\palec\\anaconda3\\lib\\site-packages\\scipy\\stats\\_qmc.py:1078: UserWarning: The balance properties of Sobol' points require n to be a power of 2.\n",
      "  warnings.warn(\"The balance properties of Sobol' points require\"\n"
     ]
    },
    {
     "name": "stdout",
     "output_type": "stream",
     "text": [
      "[[0.48429604 0.26580086]\n",
      " [0.82037014 0.96504885]\n",
      " [0.50474387 0.16087584]\n",
      " [0.15942293 0.60220134]\n",
      " [0.02900112 0.02999921]]\n",
      "[[0.0857912  0.18598418]\n",
      " [0.5857912  0.96376196]\n",
      " [0.3357912  0.51931751]\n",
      " [0.8357912  0.01314467]\n",
      " [0.2107912  0.85265085]]\n",
      "[[0.00636332 0.81346369]\n",
      " [0.9137427  0.50347505]\n",
      " [0.37328668 0.58416676]\n",
      " [0.63322275 0.26381664]\n",
      " [0.51461866 0.78460954]]\n"
     ]
    },
    {
     "data": {
      "image/png": "[encoded data removed]",
      "text/plain": [
       "<Figure size 864x288 with 3 Axes>"
      ]
     },
     "metadata": {
      "needs_background": "light"
     },
     "output_type": "display_data"
    }
   ],
   "source": [
    "from scipy.stats import qmc\n",
    "\n",
    "sobol_sampler = qmc.Sobol(d=2, scramble=True)\n",
    "x_sobol = sobol_sampler.random(5000)\n",
    "#x_sobol = sobol_sampler.random_base2(11) # generate 2^m points\n",
    "print(x_sobol[:5])\n",
    "\n",
    "halton_sampler = qmc.Halton(d=2, scramble=True)\n",
    "x_halton = halton_sampler.random(5000);\n",
    "print(x_halton[:5])\n",
    "\n",
    "x_random = np.random.random((5000,2))\n",
    "print(x_random[:5])\n",
    "\n",
    "import matplotlib.pyplot as plt\n",
    "plt.figure(figsize=(12,4))\n",
    "\n",
    "plt.subplot(1,3,1)\n",
    "plt.plot(x_sobol[:500, 0], x_sobol[:500, 1], '+')\n",
    "plt.title('uniform Sobol distribution')\n",
    "\n",
    "plt.subplot(1,3,2)\n",
    "plt.plot(x_halton[:500, 0], x_halton[:500, 1], '+')\n",
    "plt.title('uniform Halton distribution')\n",
    "\n",
    "plt.subplot(1,3,3)\n",
    "plt.plot(x_random[:500, 0], x_random[:500, 1], '+')\n",
    "plt.title('uniform random distribution')\n",
    "\n",
    "plt.show()"
   ]
  },
  {
   "cell_type": "markdown",
   "id": "02db15cc",
   "metadata": {},
   "source": [
    "Sobol sequences may be susceptible to some \"striping,\" but the \"scrambling\" is supposed to take care of that.\n",
    "It seems that generating a number of points that is exactly $2^m$ really does help.\n",
    "\n",
    "**Exercise**: change the Sobol sequence call to use the `random_base2` method instead of `random`.\n",
    "Does the graphical representation of the sequence look any different?"
   ]
  },
  {
   "cell_type": "markdown",
   "id": "43e8b2a2",
   "metadata": {},
   "source": [
    "Finally, here is the QMC integration test again, this time with the SciPy version of the Halton sequence."
   ]
  },
  {
   "cell_type": "code",
   "execution_count": 12,
   "id": "30941b6e",
   "metadata": {},
   "outputs": [
    {
     "name": "stdout",
     "output_type": "stream",
     "text": [
      "N = 10\n",
      "Trap: (1.9796508112164835, 0.020349188783516547)\n",
      "  MC: (2.098243519138523, 0.09824351913852292)\n",
      " qMC: (2.210011379535336, 0.21001137953533622)\n",
      "N = 100\n",
      "Trap: (1.9998321638939918, 0.0001678361060082345)\n",
      "  MC: (2.044234559520209, 0.04423455952020916)\n",
      " qMC: (2.0118825351761593, 0.011882535176159337)\n",
      "N = 1000\n",
      "Trap: (1.9999983517708506, 1.6482291493868928e-06)\n",
      "  MC: (1.973039662344268, 0.026960337655731914)\n",
      " qMC: (2.000964010571766, 0.000964010571765872)\n",
      "N = 10000\n",
      "Trap: (1.999999983547363, 1.6452637030539563e-08)\n",
      "  MC: (1.99474882642924, 0.005251173570760104)\n",
      " qMC: (2.0000273831076245, 2.738310762451235e-05)\n",
      "N = 100000\n",
      "Trap: (1.9999999998355142, 1.6448575834715484e-10)\n",
      "  MC: (2.001533415256998, 0.0015334152569979054)\n",
      " qMC: (2.000001980817679, 1.9808176792146526e-06)\n"
     ]
    }
   ],
   "source": [
    "def scipy_integration_qMC(f, a, b, N):\n",
    "    sum = 0.\n",
    "    sum2 = 0.\n",
    "    x_halton = halton_sampler.random(N) # on interval [0,1]\n",
    "    for i in range(N):\n",
    "        x = x_halton[i,0]*(b-a) + a\n",
    "        sum += f(x)\n",
    "        sum2 += pow(f(x),2)\n",
    "    result = (b - a) * sum/N\n",
    "    sigma = (b - a) * np.sqrt((sum2/N - pow(sum/N,2))/N)\n",
    "    error = abs(result - 2.000)\n",
    "    return (result, error)\n",
    "\n",
    "for N in np.logspace(1, 5, num=5, dtype=int):\n",
    "    print(\"N =\", N)\n",
    "    print(\"Trap:\", integration_trapezoid(f, 0, np.pi, N))\n",
    "    print(\"  MC:\", integration_MC(f, 0, np.pi, N))\n",
    "    print(\" qMC:\", integration_qMC(f, 0, np.pi, N))"
   ]
  }
 ],
 "metadata": {
  "kernelspec": {
   "display_name": "Python 3 (ipykernel)",
   "language": "python",
   "name": "python3"
  },
  "language_info": {
   "codemirror_mode": {
    "name": "ipython",
    "version": 3
   },
   "file_extension": ".py",
   "mimetype": "text/x-python",
   "name": "python",
   "nbconvert_exporter": "python",
   "pygments_lexer": "ipython3",
   "version": "3.9.7"
  }
 },
 "nbformat": 4,
 "nbformat_minor": 5
}
