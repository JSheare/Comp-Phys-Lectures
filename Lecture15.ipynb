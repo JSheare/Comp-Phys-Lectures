{
 "cells": [
  {
   "cell_type": "markdown",
   "metadata": {},
   "source": [
    "# *Lecture 15*\n",
    "\n",
    "# Ordinary Differential Equations\n",
    "\n",
    "| |\n",
    "|:---:|\n",
    "|Selected Content [From **COMPUTATIONAL PHYSICS**, 3rd Ed, 2015](http://physics.oregonstate.edu/~rubin/Books/CPbook/index.html) <br>RH Landau, MJ Paez, and CC Bordeianu (deceased) <br>Copyrights: <br> [Wiley-VCH, Berlin;](http://www.wiley-vch.de/publish/en/books/ISBN3-527-41315-4/) and [Wiley & Sons, New York](http://www.wiley.com/WileyCDA/WileyTitle/productCd-3527413154.html)<br>  R Landau, Oregon State Unv, <br>MJ Paez, Univ Antioquia,<br> C Bordeianu, Univ Bucharest, 2015.<br> Support by National Science Foundation.|\n",
    "\n",
    "### Introduction\n",
    "\n",
    "Many physics problems deal with time dependence or position dependence of a system.\n",
    "The description of how the system varies in time and space (or another independent variable) is often given by a differential equation.\n",
    "In fact, any dynamic system subject to Newton's Laws has a differential equation at its heart:\n",
    "\n",
    "$$\\frac{1}{m} F(x) = \\frac{d^2 x}{dt^2}$$\n",
    "\n",
    "We will concentrate in this lecture on the solutions for a *single* differential equation, especially equations of motion in one dimension.\n",
    "During the next lecture, we will concentrate on *systems* of differential equations that have multiple coordinates and generalized coordinates ($x,p$).\n",
    "Then, next week, we will introduce boundary conditions and eigenvalues in physical systems.\n",
    "These are the \"ODE applications\" that are typically used in computational physics.  (In some classes, the ODE solvers are the main focus!)"
   ]
  },
  {
   "cell_type": "markdown",
   "metadata": {},
   "source": [
    "\n",
    "### Definitions/Terminology (Types of Differential Equations)\n",
    "\n",
    "The **order** of a differential equation refers to the degree of the derivative.\n",
    "For example,\n",
    "\n",
    "$$\\frac{dy}{dt} = -3 t^2 + t^9 + y^7$$\n",
    "\n",
    "is still a first-order differential equation, even though the first derivative is itself a function of higher orders of $t$ and $y$.\n",
    "We will treat all orders of differential equations, but only the first two orders are typically used in physics cases.\n",
    "\n",
    "The **ordinary** differential equations contain only 1 independent variable, so that all of the derivatives are taken with respect to that variable.\n",
    "For example, \n",
    "\n",
    "$$\\frac{dy}{dt} = f(t,y)$$ \n",
    "\n",
    "is still an ordinary differential equation because $y(t)$ itself is a simple function of the independent variable $t$.\n",
    "(An example of a **partial** differential equation would be $\\frac{\\partial y}{\\partial t} = f(t, x, y)$, with the understanding that $y(x,t)$ is a function of both $x$ and $t$.)\n",
    "\n",
    "The **linear** differential equations have only the first power of a function or a derivative (may be a second-order derivative or even an $n$th-order derivative).\n",
    "A **non-linear** equation has higher powers of the derivative.\n",
    "For example,\n",
    "\n",
    "$$\\frac{dy}{dt} = y(t) - y^2(t)$$\n",
    "\n",
    "is a nonlinear equation because it contains a higher power of $y$.\n",
    "This higher power means that a linear combination of solutions will not itself be a solution.\n",
    "\n",
    "Please note that in all of these forms the right-hand side of the equation is just a **derivative function** that describes the combination of derivatives on the left-hand side.\n",
    "When you see $f(t, y)$ in the following explanations, think of a derivative.\n",
    "\n",
    "We usually concentrate on linear differential equations because these can be solved with analytic methods, but now we will develop numerical methods to solve even nonlinear systems."
   ]
  },
  {
   "cell_type": "markdown",
   "metadata": {},
   "source": [
    "### Example: Nonlinear Oscillations\n",
    "\n",
    "Consider a mass $m$ attached to a spring that exerts a restoring force $F_k$.\n",
    "According to Newton's Second Law:\n",
    "\n",
    "$$\n",
    "F_k(x) = m \\frac{d^{2}x}{dt^{2}},\n",
    "$$\n",
    "\n",
    "This equation is the differential equation of motion we must solve for\n",
    "arbitrary $F_k$. \n",
    "Because we are not told just how the spring\n",
    "departs from being linear, we are free to try out some different\n",
    "models. \n",
    "\n",
    "Let us assume that the spring's potential function is proportional to\n",
    "some arbitrary *even* power $p$ of the displacement $x$ from\n",
    "equilibrium:\n",
    "\n",
    "$$\n",
    "\\begin{align}\n",
    "V(x) =  \\frac{1} { p} k  x^{p}, \\quad \\mbox{( $p$ even)}.\n",
    " \\end{align}$$\n",
    " \n",
    "We require an even $p$ to ensure that the force,\n",
    "\n",
    "$$\n",
    "\\begin{align}\n",
    "        F_k(x) = -\\frac{dV(x)}{dx} = -k x^{p-1},\n",
    " \\end{align}$$\n",
    " \n",
    "contains an odd power of $p$, which guarantees that it is a\n",
    "*restoring* force for positive and negative $x$ values.\n",
    "You will recognize that $p=2$ is the harmonic\n",
    "oscillator, and that \n",
    "\n",
    "$$m \\frac{d^2 x}{dt^2} = F_k = -k x$$\n",
    "\n",
    "is a *linear second-order ordinary* differential equation because it contains only 1 power of $x$.\n",
    "\n",
    "By contrast, the $p = 6$ potential is nearly a square well with the mass\n",
    "moving almost freely until it hits the wall at $x \\simeq \\pm 1$.\n",
    "Regardless of the $p$ value, the motion will be periodic, but it\n",
    "will be harmonic (sine or cosine function) only for $p=2$. \n",
    "\n",
    "Newton's law gives the second-order ODE we need to solve:\n",
    "$$\n",
    "\\begin{align}\n",
    "m \\frac{d^{2}x}{dt^{2}} = -k  x^{p-1}\n",
    " \\end{align}$$\n",
    "Whether it is linear or not depends on $p$. It's linear if $p=2$."
   ]
  },
  {
   "cell_type": "code",
   "execution_count": 3,
   "metadata": {},
   "outputs": [
    {
     "data": {
      "image/png": "[encoded data removed]",
      "text/plain": [
       "<Figure size 432x288 with 1 Axes>"
      ]
     },
     "metadata": {
      "needs_background": "light"
     },
     "output_type": "display_data"
    }
   ],
   "source": [
    "import numpy as np\n",
    "import matplotlib.pyplot as plt\n",
    "x = np.linspace(-1.5,1.5,100)\n",
    "plt.plot(x, pow(x,2)/2.,label='p=2')\n",
    "plt.plot(x, pow(x,6)/6.,label='p=6')\n",
    "plt.legend()\n",
    "plt.show()"
   ]
  },
  {
   "cell_type": "markdown",
   "metadata": {},
   "source": [
    "## Euler Methods\n",
    "\n",
    "The problem is how to solve for $y$ in the differential equation\n",
    "\n",
    "$$\\frac{dy}{dt} = f(t,y)$$\n",
    "\n",
    "(Note that if $f(t,y)$ were a function of $t$ alone, we could simply integrate to find $y(t)$.  We will assume that this is not the case.)\n",
    "\n",
    "As is often the case, inspiration arrives in the form of the Taylor series expansion:\n",
    "\n",
    "$$y(t+h) = y(t) + hy'(t) + \\frac{1}{2!} h^2 y''(t) + \\dots$$\n",
    "\n",
    "(In this form, $y(t)$ means \"$y$ evaluated at the time $t$\" and **not** \"$y$ is strictly only a function of $t$.\")\n",
    "\n",
    "Even though the Taylor series uses $y'$, we can see from the original differential equation that $y' = f$.\n",
    "Therefore we can rewrite the series as **Euler's method**:\n",
    "\n",
    "$$y(t+h) \\approx y(t) + hf(t) + \\mathcal{O}(h^2)$$\n",
    "\n",
    "You may recognize this same equation as the forward-difference algorithm for the derivative\n",
    "\n",
    "$$\\frac{y(t+h)-y(t)}{h} \\approx f(t) = \\frac{dy}{dt}$$\n",
    "\n",
    "but in this application we are interested in the evolution of $y$, not $dy/dt$.\n",
    "\n",
    "Some authors, including Landau *et al.*, focus on time as a series of steps $t_n$, and they write the function evaluations as discrete steps, too.\n",
    "In that notation, \n",
    "$y_n = y(t_n)$ is the value of $y$ at time $t_n$.\n",
    "We will try to use that notation for consistency from now on.\n",
    "\n",
    "$$y_{n+1} \\approx y_n + hf(t_n, y_n)$$\n",
    "\n",
    "This is an example of an **explicit** method, in which $y_{n+1}$ is given entirely in terms of already-calculated $y_n$.\n",
    "\n",
    "Just like the forward-difference derivative, Euler's method has a local error for each step of $\\mathcal{O}(h^2)$.\n",
    "If there are $N \\sim 1/h$ steps, then the total error for the method scales as $N\\mathcal{O}(h^2) =  \\mathcal{O}(h)$.\n",
    "\n",
    "This can be seen in the figure below.  Note that it is not only $h$, but also $y''=f'$, that determine the total error.  If $y$ is a linear function, then $y''=0$, and Euler's method at first order is exact.\n",
    "\n",
    "<img src=\"Figures/Figure_8.4.png\" width=\"50%\">\n",
    "\n",
    "Euler's method is sometimes referred to as a \"Taylor series method of order 2\" because two Taylor terms are used.\n",
    "A higher-order Euler method can be derived by returning to the Taylor series and retaining the $y''$ term:\n",
    "\n",
    "$$y_{n+1} = y_n + h y'(t) + \\frac{1}{2!} h^2 y''(t) + \\mathcal{O}(h^3)$$\n",
    "\n",
    "It is simple enough to write $y'(t) = f(t,y)$, but what about $y''(t)$?\n",
    "\n",
    "$$y''_n = \\frac{df}{dt}(t_n, y_n) = \\frac{\\partial f}{\\partial t} + \\frac{\\partial f}{\\partial y}\\frac{dy}{dt} = \\frac{\\partial f}{\\partial t} + \\frac{\\partial f}{\\partial y} f $$\n",
    "\n",
    "so that all of the functions and derivatives have to be evaluated at $(t_n, y_n)$.\n",
    "This method will have a local error of $\\mathcal{O}(h^3)$ and global error of $\\mathcal{O}(h^2)$, but it is not easy to implement the derivatives when $f$ is a very complicated function."
   ]
  },
  {
   "cell_type": "markdown",
   "metadata": {},
   "source": [
    "### Example of Euler's method\n",
    "\n",
    "Let's take the example $x' = 1+x^2+t^3$, with an initial value $x(1)=-4$.\n",
    "What is the value of $x$ at $t=2$?"
   ]
  },
  {
   "cell_type": "code",
   "execution_count": 2,
   "metadata": {
    "scrolled": false
   },
   "outputs": [
    {
     "name": "stdout",
     "output_type": "stream",
     "text": [
      "x(t=2)= 4.234618299300086\n"
     ]
    },
    {
     "data": {
      "image/png": "[encoded data removed]",
      "text/plain": [
       "<Figure size 432x288 with 1 Axes>"
      ]
     },
     "metadata": {
      "needs_background": "light"
     },
     "output_type": "display_data"
    }
   ],
   "source": [
    "# Euler's method (first order)\n",
    "\n",
    "def f(x, t):\n",
    "    return 1 + pow(x,2) + pow(t,3)\n",
    "    \n",
    "N = 100\n",
    "t_values = np.linspace(1., 2., N)\n",
    "h = t_values[1] - t_values[0]\n",
    "x_values = np.zeros(N)\n",
    "x_values[0] = -4.\n",
    "for i in range(N-1):\n",
    "    x_values[i+1] = x_values[i] + h * f(x_values[i], t_values[i])\n",
    "print(\"x(t=2)=\", x_values[-1])\n",
    "plt.plot(t_values, x_values)\n",
    "plt.xlabel('t')\n",
    "plt.ylabel('x')\n",
    "plt.grid()\n",
    "plt.show()"
   ]
  },
  {
   "cell_type": "markdown",
   "metadata": {},
   "source": [
    "## Adams-Bashforth multistep explicit method\n",
    "\n",
    "A different way of increasing the accuracy of the \"explicit\" methods is to sample the function at more points, rather than just at $t_n$.\n",
    "Such methods are called **multistep** methods.\n",
    "\n",
    "Simple integration of the differential equation gives\n",
    "\n",
    "$$y_{n+1} = y_n + \\int_{t_n}^{t_{n+1}} f(t,y) dt$$\n",
    "\n",
    "This looks promising, but we don't actually know $f(t,y)$ over the entire step.\n",
    "We can, however, use values $y_n$ and $y_{n-1}$ to *estimate* $f$ over the interval.\n",
    "This will be a *linear* extrapolation from the two previous measurements.\n",
    "\n",
    "$$f \\approx \\frac{t - t_{n-1}}{h} f_n - \\frac{t - t_n}{h} f_{n-1} + \\mathcal{O}(h^2)$$\n",
    "\n",
    "(Double-check to see that this works at the endpoints of the interval and at the midpoint.)\n",
    "\n",
    "Assuming that this approximation holds over the interval, we can use it in the integral equation and perform the integral **explicitly**.\n",
    "\n",
    "The result is the 2-step **Adams-Bashforth method**:\n",
    "\n",
    "$$y_{n+1} = y_n + h\\left( \\frac{3}{2} f_n - \\frac{1}{2} f_{n-1} \\right) + \\mathcal{O}(h^3)$$\n",
    "\n",
    "It is called \"2-step\" because the function $f$ is evaluated at two steps: $f_n = f(t_n, y_n)$ and $f_{n-1} = f(t_{n-1}, y_{n-1})$.\n"
   ]
  },
  {
   "cell_type": "code",
   "execution_count": 3,
   "metadata": {
    "scrolled": false
   },
   "outputs": [
    {
     "name": "stdout",
     "output_type": "stream",
     "text": [
      "x(t=2)= 4.24900678351203\n"
     ]
    },
    {
     "data": {
      "image/png": "[encoded data removed]",
      "text/plain": [
       "<Figure size 432x288 with 1 Axes>"
      ]
     },
     "metadata": {
      "needs_background": "light"
     },
     "output_type": "display_data"
    }
   ],
   "source": [
    "# Adams-Bashforth method (second order)\n",
    "\n",
    "def f(x, t):\n",
    "    return 1 + pow(x,2) + pow(t,3)\n",
    "\n",
    "N = 100\n",
    "t_values = np.linspace(1., 2., N)\n",
    "\n",
    "h = t_values[1] - t_values[0]\n",
    "x_values = np.zeros(N)\n",
    "x_values[0] = -4.\n",
    "x_values[1] = -4.\n",
    "for i in range(1, N-1):\n",
    "    x_values[i+1] = x_values[i] + h * (1.5*f(x_values[i], t_values[i]) - 0.5*f(x_values[i-1], t_values[i-1]))\n",
    "print(\"x(t=2)=\", x_values[-1])\n",
    "plt.plot(t_values, x_values)\n",
    "plt.xlabel('t'); plt.ylabel('x')\n",
    "plt.grid()\n",
    "plt.show()"
   ]
  },
  {
   "cell_type": "markdown",
   "metadata": {},
   "source": [
    "## Bashforth-Moulton multistep implicit method\n",
    "\n",
    "The multistep Adams-Bashforth explicit method can be contrasted with **implicit** methods that require solution of an equation in $y$.\n",
    "\n",
    "For example, if we use the central difference approximation for $f=y'$, we could write\n",
    "\n",
    "$$\\frac{y_{n+1}-y_n}{h} \\approx \\frac{1}{2}\\left[ f_n + f_{n+1} \\right]$$\n",
    "\n",
    "where we have approximated the derivative $f$ at the interval midpoint as the average of the derivative at the two endpoints.\n",
    "\n",
    "Then the implicit equation is\n",
    "\n",
    "$$y_{n+1} \\approx y_n + \\frac{1}{2}h \\left[f(t_n, y_n) + f(t_{n+1}, y_{n+1})\\right]$$\n",
    "\n",
    "which has $y_{n+1}$ on both the left- and right-hand sides.\n",
    "This seems like a pretty tricky equation, and our main method for solving it is a kind of Newton-Raphson method.\n",
    "But this equation has to be re-solved for each integration (time) step!"
   ]
  },
  {
   "cell_type": "markdown",
   "metadata": {},
   "source": [
    "## Predictor-Corrector Method (Adams-Bashforth-Moulton 3rd/4th order)\n",
    "\n",
    "Implicit methods are not usually used by themselves to solve the differential equation.\n",
    "\n",
    "Instead, the two methods above can be combined by using the explicit method to generate a *prediction* for the next time step and the implicit method to check on the correction and get a *correction*.\n",
    "The combination is called the *predictor-corrector method*.\n",
    "The size of the correction gives some idea of the size of the local error.\n",
    "\n",
    "The following coefficients are an implementation of the Adams-Bashforth-Moulton predictor-correction scheme.\n",
    "$$\\begin{align}\n",
    "                \\mathbf{y}_{n+1} & =  \\mathbf{y}_{n} + \\frac{1}{6}(\\mathbf{k}_{0} +\n",
    "                2\\mathbf{k}_{1} + 2 \\mathbf{k}_{2} + \\mathbf{k}_{3}) ,      \\\\\n",
    "         \\mathbf{k}_{0} & =  h \\mathbf{f}(t_{n},\\ \\mathbf{y}_{n}),                \\hspace{15ex}\n",
    "                \\mathbf{k}_{1} = h \\mathbf{f}(t_{n}+\\frac{h}{2},\\\n",
    "\\mathbf{y}_{n}+\\frac{\\mathbf{k}_{0}}{2}) ,   \\\\\n",
    " \\mathbf{k}_{2} & =  h \\mathbf{f}(t_{n}+\\frac{h}{2},\\ \\mathbf{y}_{n}+\\frac{\\mathbf{k}_{1}}{2}),                                              \\hspace{5ex}\n",
    "        \\mathbf{k}_{3} = h \\mathbf{f}(t_{n}+h,\\ \\mathbf{y}_{n}+\\mathbf{k}_{2}) .\n",
    " \\end{align}$$\n",
    " \n",
    "We will provide the implementation of the ABM predictor-corrector method next time."
   ]
  },
  {
   "cell_type": "markdown",
   "metadata": {},
   "source": [
    "## Runge-Kutta Rule\n",
    "\n",
    "Although no one algorithm is good for solving all ODE’s, the\n",
    "fourth-order Runge-Kutta algorithm, commonly known as `rk4`, or its extension with\n",
    "adaptive step size, `rk45`, has proven to be robust and capable of\n",
    "industrial-strength work. In spite of `rk4` being our recommended\n",
    "standard method, we derive the simpler `rk2` here, and just state the\n",
    "result for `rk4`.\n",
    "\n",
    "The Runge-Kutta algorithms for integrating a differential equation are based\n",
    "upon the formal (exact) integral of our differential equation:\n",
    "\n",
    "$$\\begin{align}\n",
    "\\frac{dy}{dt} = f(t,y) \\quad &\\Rightarrow  \\quad y(t) = \\int f(t,y) dt \\\\\n",
    "     \\Rightarrow \\quad  &y_{n+1} = y_{n} + \\int_{t_{n}}^{t_{n+1}} f(t,y) dt.\n",
    " \\end{align}$$\n",
    "\n",
    "So far, this is exactly the same as what we tried for the Adams-Bashforth method, where we created a linear approximation to $f$ from the two endpoints.\n",
    "\n",
    "But now, to derive the second-order Runge-Kutta algorithm `rk2` , we expand $f(t,y)$ in a Taylor series about the\n",
    "*midpoint* of the integration interval and retain two terms:\n",
    "\n",
    "$$f(t,y) \\simeq f(t_{n+1/2}, y_{n+1/2}) + (t-t_{n+1/2})\n",
    "        \\frac{df}{dt}(t_{n+1/2})        +  {\\mbox{$\\cal O$}}(h^2)$$\n",
    "\n",
    "This is still a linear approximation, but fixed at the midpoint value instead of the endpoint values.\n",
    "\n",
    "Because $(t − t_{n + 1/2})$ raised to any odd power is\n",
    "equally positive and negative over the interval\n",
    "$t_n \\leq t \\leq t_{n + 1}$, the integral of the\n",
    "$(t − t_{n + 1/2})$ term vanishes and we obtain\n",
    "our algorithm for `rk2`:\n",
    "\n",
    "$$\\begin{align}\n",
    " \\int_{t_{n}}^{t_{n+1}}  f(t,y)  dt &\\simeq    f (t_{n+1/2},\\\n",
    "y_{n+1/2}) h + {\\mbox{$\\cal O$}}(h^3),\\\\\n",
    "\\Rightarrow\\quad    y_{n+1} &\\simeq y_{n} + h f(t_{n+1/2},\\\n",
    "y_{n+1/2}) + \\mbox{$\\cal O$}(h^3)\n",
    "\\quad\\mbox{(rk2)}.\n",
    "\\end{align}$$\n",
    "\n",
    "We see that while `rk2` contains the same number of terms as Euler’s rule, it\n",
    "obtains a higher level of precision by taking advantage of the cancellation of the\n",
    "$\\mathcal{O}(h)$ terms. \n",
    "The price for this improved precision is having to\n",
    "evaluate the derivative function and the solution $y$ at the middle of the time\n",
    "interval, $t_{n+1/2} = t_{n}+h/2$.\n",
    "Unfortunately, we do not\n",
    "know the value of $y_{n + 1/2}$ and cannot use this algorithm to\n",
    "determine it. The way out of this quandary is to use Euler’s method (first order) to\n",
    "approximate $y_{n + 1/2}$:\n",
    "\n",
    "$$y_{n+1/2} \\approx y_{n} + \\frac{1}{2} h \\frac{dy}{dt}\n",
    "    =    y_{n}  + \\frac{1}{2} h f(t_{n},\\ y_{n}).$$\n",
    "\n",
    "But this was only to find $y_{n+1/2}$!\n",
    "\n",
    "Then we have to evaluate the derivative function $f$ at the new \"approximate $y_{n+1/2}$ we just found.\n",
    "That evaluation and the other pieces come together to \n",
    "give the complete `rk2` algorithm: \n",
    "\n",
    "$$\\begin{align}\n",
    " \\mbox{} &   y_{n+1} \\ \\simeq\\\n",
    "y_{n} + k_{2} \\\\\n",
    " &  k_{2} = h f\\left(t_{n} +    \\frac{h} {2},\\\n",
    "y_{n} + \\frac{k_{1}} {2}\\right), \\quad\n",
    "        k_{1} = h   f(t_{n},\\\n",
    "        y_{n}),\\end{align}$$\n",
    "\n",
    "We\n",
    "see that the known derivative function $f$ is evaluated at the ends (end??)\n",
    "and the midpoint of the interval, but that only the (known) initial\n",
    "value of the dependent variable $y$ is required. This makes the\n",
    "algorithm self-starting."
   ]
  },
  {
   "cell_type": "code",
   "execution_count": 4,
   "metadata": {},
   "outputs": [
    {
     "name": "stdout",
     "output_type": "stream",
     "text": [
      "x(t=2)= 4.365332495817935\n"
     ]
    },
    {
     "data": {
      "image/png": "[encoded data removed]",
      "text/plain": [
       "<Figure size 432x288 with 1 Axes>"
      ]
     },
     "metadata": {
      "needs_background": "light"
     },
     "output_type": "display_data"
    }
   ],
   "source": [
    "# Runge-Kutta 2 method, good to order O(h^3)\n",
    "\n",
    "def f(t,x):\n",
    "    return 1 + pow(x,2) + pow(t,3)\n",
    "\n",
    "N = 100\n",
    "t_values = np.linspace(1., 2., N)\n",
    "h = t_values[1] - t_values[0]\n",
    "x_values = np.zeros(N)\n",
    "x_values[0] = -4.\n",
    "for i in range(N-1):\n",
    "    k1 = h * f(t_values[i], x_values[i])\n",
    "    k2 = h * f(t_values[i]+h/2., x_values[i]+k1/2.)\n",
    "    x_values[i+1] = x_values[i] + k2\n",
    "print(\"x(t=2)=\", x_values[-1])\n",
    "plt.plot(t_values, x_values)\n",
    "plt.grid()\n",
    "plt.show()"
   ]
  },
  {
   "cell_type": "markdown",
   "metadata": {},
   "source": [
    "The fourth-order Runge-Kutta method `rk4` obtains\n",
    "$\\mathcal{O}(h^4)$ precision by approximating $y$ as a Taylor series up to\n",
    "$h^2$ (a parabola) at the midpoint of the interval, which again leads\n",
    "to cancellation of lower-order error. `rk4` provides an excellent balance of\n",
    "power, precision, and programming simplicity. There are now four gradient\n",
    "($k$) terms to evaluate, with four subroutine calls. This provides an improved\n",
    "approximation to $f(t, y)$ near the midpoint. Although `rk4` is\n",
    "computationally more expensive than the Euler method, its precision is much\n",
    "better, and some time is saved by using larger values for the step size *h*.\n",
    "Explicitly, `rk4` requires the evaluation of four intermediate slopes, and these\n",
    "are approximated with the Euler algorithm:\n",
    "\n",
    "$$\\begin{align}\n",
    "y_{n+1} &= y_{n} + \\frac{1}{6}(k_{1} +\n",
    "2k_{2} + 2 k_{3} + k_{4}),&&\\\\\n",
    "k_{1} &= h f(t_{n}, y_{n}), \\quad\n",
    "&k_{2} &= h f\\!\\left(t_{n}+\\frac{h}{2},\n",
    "y_{n}+\\frac{k_1}{2}\\right),  \\\\\n",
    "k_{3} &= h f\\!\\left(t_{n}+\\frac{h}{2},\n",
    "y_{n}+\\frac{k_2}{2}\\right),\\quad &\n",
    "k_{4} &= h f(t_{n}+h,\n",
    "y_{n}+k_{3}).\n",
    " \\end{align}$$\n"
   ]
  },
  {
   "cell_type": "markdown",
   "metadata": {},
   "source": [
    "### rk4.py, Notebook Version"
   ]
  },
  {
   "cell_type": "code",
   "execution_count": 5,
   "metadata": {
    "scrolled": false
   },
   "outputs": [
    {
     "name": "stdout",
     "output_type": "stream",
     "text": [
      "4.371220810723883\n"
     ]
    },
    {
     "data": {
      "image/png": "[encoded data removed]",
      "text/plain": [
       "<Figure size 432x288 with 1 Axes>"
      ]
     },
     "metadata": {
      "needs_background": "light"
     },
     "output_type": "display_data"
    }
   ],
   "source": [
    "# rk4.py, Notebook Version\n",
    "\n",
    "import matplotlib.pyplot as plt          #Load Matplotlib\n",
    "\n",
    "#   Initialization\n",
    "a = 1.\n",
    "b = 2.\n",
    "n = 100                                          \n",
    "tt=np.zeros(n)\n",
    "yy=np.zeros(n)\n",
    "y = -4.\n",
    "t = a\n",
    "tt[0]=t\n",
    "yy[0]=y\n",
    "h = (b-a)/(n-1);\n",
    "\n",
    "def f(t, y):\n",
    "    return 1 + pow(y,2) + pow(t,3)\n",
    "\n",
    "j=0\n",
    "while (t < b):                          # Time loop\n",
    "    if ( (t + h) > b ): \n",
    "        h = b - t                       # Last step\n",
    "    k1 = h * f(t, y)\n",
    "    k2 = h*f(t + h/2., y + k1/2.)\n",
    "    k3 = h*f(t + h/2., y + k2/2.)\n",
    "    k4 = h*f(t + h, y + k3)\n",
    "    y = y + (k1 + 2.*(k2 + k3) + k4)/6.\n",
    "    j+=1 \n",
    "    t+=h\n",
    "    tt[j]=t\n",
    "    yy[j]=y  \n",
    "        \n",
    "print(yy[-1])\n",
    "plt.plot(tt,yy) \n",
    "plt.grid(True)\n",
    "plt.ylabel('y')\n",
    "plt.xlabel('t')\n",
    "plt.show()"
   ]
  }
 ],
 "metadata": {
  "anaconda-cloud": {},
  "kernelspec": {
   "display_name": "Python 3 (ipykernel)",
   "language": "python",
   "name": "python3"
  },
  "language_info": {
   "codemirror_mode": {
    "name": "ipython",
    "version": 3
   },
   "file_extension": ".py",
   "mimetype": "text/x-python",
   "name": "python",
   "nbconvert_exporter": "python",
   "pygments_lexer": "ipython3",
   "version": "3.9.7"
  }
 },
 "nbformat": 4,
 "nbformat_minor": 1
}
