{
 "cells": [
  {
   "cell_type": "markdown",
   "metadata": {},
   "source": [
    "# *Lecture 4*\n",
    "\n",
    "# Numerical Differentiation & Integration \n",
    "\n",
    "| |\n",
    "|:---:|\n",
    "|[From **COMPUTATIONAL PHYSICS**, 3rd Ed, 2015](http://physics.oregonstate.edu/~rubin/Books/CPbook/index.html) <br>RH Landau, MJ Paez, and CC Bordeianu (deceased) <br>Copyrights: <br> [Wiley-VCH, Berlin;](http://www.wiley-vch.de/publish/en/books/ISBN3-527-41315-4/) and [Wiley & Sons, New York](http://www.wiley.com/WileyCDA/WileyTitle/productCd-3527413154.html)<br>  R Landau, Oregon State Unv, <br>MJ Paez, Univ Antioquia,<br> C Bordeianu, Univ Bucharest, 2015.<br> Support by National Science Foundation.|"
   ]
  },
  {
   "cell_type": "markdown",
   "metadata": {},
   "source": [
    "## Physics Introduction\n",
    "\n",
    "Imagine that you have used a voltmeter to measure the electric potential at different points along an insulating rod.  The discrete set of measurements might look something like this:"
   ]
  },
  {
   "cell_type": "code",
   "execution_count": 1,
   "metadata": {},
   "outputs": [
    {
     "data": {
      "image/png": "[encoded data removed]",
      "text/plain": [
       "<Figure size 432x288 with 1 Axes>"
      ]
     },
     "metadata": {
      "needs_background": "light"
     },
     "output_type": "display_data"
    }
   ],
   "source": [
    "import numpy as np\n",
    "import matplotlib.pyplot as plt\n",
    "\n",
    "x = [ 0.,  1.,  2.,  3.,  4.,  5.,  6.,  7.,  8.,  9., 10.]\n",
    "V = [100.,  99.,  96.,  91.,  84.,  75.,  64.,  51.,  36.,  19.,   0.]\n",
    "\n",
    "fig = plt.figure()\n",
    "ax = fig.add_subplot(1,1,1)\n",
    "plt.plot(x,V)\n",
    "ax.set_xlabel(\"x [meters]\")\n",
    "ax.set_ylabel(\"potential [volts]\")\n",
    "plt.show()"
   ]
  },
  {
   "cell_type": "markdown",
   "metadata": {},
   "source": [
    "How can we calculate the electric field along the rod from this electric potential, when we do not know the underlying analytic function (if any)?"
   ]
  },
  {
   "cell_type": "markdown",
   "metadata": {},
   "source": [
    "## Numerical Differentiation\n",
    "\n",
    "Many physics problems require first-order or higher-order derivatives of some function.\n",
    "Those derivatives might give you velocity, force, power, etc.\n",
    "Sometimes we do not have an analytic function to differentiate. \n",
    "We may have a table of discrete measurements representing position, or we may have a very complicated numerical function that is practically impossible to differentiate by hand. \n",
    "\n",
    "In principle, numerical differentiation should be a very easy calculation.\n",
    "It is based on the definition of the elementary definition:\n",
    "\n",
    "$$\n",
    "\\frac{dy(t)}{dt}  =  \\lim_{h \\rightarrow 0} \\frac{y(t+h)-\n",
    "y(t)}{h}.\n",
    "$$\n",
    "\n",
    "The problem is that this definition runs into numerical precision problems when $h$ is taken to be very small.\n",
    "The numerator is not guaranteed to converge to 0 as $h\\rightarrow 0$ (it is limited by machine precision roundoff errors), so the numerical limit can lead to an overflow or NaN.\n"
   ]
  },
  {
   "cell_type": "markdown",
   "metadata": {},
   "source": [
    "### Forward Difference (Algorithm) [aka \"two-point\" algorithm]\n",
    "\n",
    "All of the methods for numerical differentiation start by expanding a\n",
    "function in a Taylor series about a point $t$ to obtain its value at a small step $h$ away:\n",
    "\n",
    "$$\\begin{align} y(t+h) &= y(t) + h \\frac{dy(t)}{dt}+ \\frac{h^{2}}{2!}\n",
    "\\frac{d^2y(t)}{dt^2}+ \\frac{h^{3}}{3!} \\frac{dy^3(t)}{dt^3} +\n",
    "\\cdots,   \\tag*{5.2}\\\\\n",
    "\\Rightarrow \\qquad \\frac{y(t+h) - y(t)}{h}  &=    \\frac{dy(t)}{dt}+ \\frac{h}{2!}\n",
    "\\frac{d^2y(t)}{dt^2}+ \\frac{h^{2}}{3!} \\frac{dy^3(t)}{dt^3} +\n",
    "\\cdots, \\tag*{5.3}\n",
    "   \\end{align}$$\n",
    "   \n",
    "If we ignore the $h^2$ terms (and higher) for the moment, we obtain the\n",
    "*forward-difference* algorithm definition for the derivative $y^\\prime(t)$. \n",
    "\n",
    "$$\n",
    "\\left.\\frac{dy(t)}{dt}\\right|_{\\text{fd}} \\equiv\\frac{y(t+h) - y(t)}{h}$$\n",
    "\n",
    "You might protest that this is exactly the same as the definition of the derivative, but the difference is that $h$ does not have to go to 0.\n",
    "In fact, we control the size of the error on the derivative calculation by controlling $h$."
   ]
  },
  {
   "cell_type": "markdown",
   "metadata": {},
   "source": [
    "The estimate of the error, controlled by $h$, follows from substituting the Taylor series:\n",
    "\n",
    "$$\\left.\\frac{dy(t)}{dt}\\right|_{\\text{fd}} \\simeq \\frac{dy(t)}{dt} -\n",
    "\\frac{h}{2}\\frac{d^2y(t)}{dt^2} + \\cdots .$$\n",
    "\n",
    "So we would say that this error is proportional to $h$.  (We assume implicitly that the derivatives are of the same order as the function $y$ itself.)\n",
    "\n",
    "You can think of this approximation as using two points to represent the\n",
    "function by a straight line in the interval from $t$ to $t + h$. \n",
    "The approximation has an error proportional to $h$\n",
    "(unless the function is perfectly linear or otherwise special enough to make $y''$ vanish). We\n",
    "can make the approximation error smaller by making $h$ smaller, but if $h$ is too small \n",
    "the subtractive cancellation on the right-hand side will cause instability.\n",
    "\n",
    "To see how the forward-difference algorithm works, let $y(t) = a + b t^2$. The exact derivative is \n",
    "$y' = 2 b t$, while the computed derivative is\n",
    "\n",
    "$$\n",
    "\\left.\\frac{dy(t)}{dt}\\right|_{\\text{fd}}\\simeq \\frac{y(t+h)-y(t)}{h}\n",
    "= 2bt +bh.\n",
    "$$\n",
    "\n",
    "This clearly becomes a good approximation only for very small\n",
    "$h$ (specifically $h\\ll 1/b$ in this case)."
   ]
  },
  {
   "cell_type": "markdown",
   "metadata": {},
   "source": [
    "### Central Difference [aka \"three-point\" algorithm\"]\n",
    "\n",
    "An improved approximation to the derivative uses a neat trick to cancel out the remaining terms of order $h$.  Instead of making a single step of $h$ forward, we form a *central difference*\n",
    "by stepping forward half a step and backward half a step:\n",
    "\n",
    "$$\\begin{align}\n",
    " \\left. \\frac{dy(t)}{dt}\\right|_{\\text{cd}}  \\equiv D_{\\text{cd}} y(t)   &=\n",
    "\\frac{y(t+h/2)-y(t-h/2)}{h}.\n",
    "\\end{align}$$\n",
    "\n",
    "You will sometimes see this definition as\n",
    "\n",
    "$$\\left.\\frac{dy(t)}{dt}\\right|_{\\text{cd}}  \\equiv D_{\\text{cd}} y(t) =\n",
    "\\frac{y(t+h)-y(t-h)}{2h},$$\n",
    "\n",
    "from which it gets its \"three-point algorithm\" name.\n",
    "\n",
    "We estimate the error in the central-difference algorithm by substituting the\n",
    "Taylor series for *y*(*t* + *h*/2) and*y*(*t* − *h*/2):\n",
    "\n",
    "$$\\begin{align}\n",
    "y\\left(t+\\frac{h}{2}\\right)-y\\left(t-\\frac{h}{2}\\right) &\n",
    "\\simeq \\left[y(t) + \\frac{h}{2}y'(t) + \\frac{h^2}{8}y''(t) +\n",
    "\\frac{h^3}{48}y'''(t)+ {\\cal O}(h^4) \\right]\n",
    "  \\\\\n",
    "&\\quad - \\left[y(t) - \\frac{h}{2}y'(t) + \\frac{h^2}{8}y\"(t) -\n",
    "\\frac{h^3}{48}y'''(t)+ {\\cal O}(h^4)\\right]   \\\\\n",
    "& = h y'(t) + \\frac{h^3}{24}y'''(t) + {\\cal O}(h^5), \\\\\n",
    "\\Rightarrow \\quad \\frac{dy(t)}{dt}\\bigg|_{\\text{cd}} & \\simeq   y'(t)\n",
    "+\\frac{1}{24}h^{2}y'''(t) + {\\cal O}(h^4) .\\tag*{5.8}\n",
    "   \\end{align}$$\n",
    "\n",
    "The important difference between this central-difference algorithm and the\n",
    "forward difference one is that when $y(t − h/2)$ is subtracted from\n",
    "$y(t + h/2)$, all terms containing an even power of *h* in the two Taylor\n",
    "series cancel. This make the central-difference algorithm accurate to order\n",
    "$h^2$ ($h^3$ before division by $h$), while the forward\n",
    "difference is accurate only to order $h$. If the $y(t)$ is smooth, that is, if\n",
    "$y'''h^{2}/24 \\ll y''h/2$, then you can expect the central-difference error to be\n",
    "smaller than with the central difference algorithm.  As usual, if $y'''$ vanishes, then the numerical derivative is exact.\n",
    "\n",
    "For example, if we take the derivative of a parabola (quadratic) function $y(t)=bt^2$, we will see that the\n",
    "central difference algorithm gives the exact derivative independent of $h$:\n",
    "\n",
    "$$\n",
    "\\left. \\frac{dy(t)}{dt}\\right|_{\\text{cd}} \\simeq\n",
    "\\frac{y(t+{h/2})-y(t-{h/2})}{h} = 2bt.$$\n",
    "\n",
    "This is to be expected because the higher derivatives equal zero for a\n",
    "second-order polynomial.\n"
   ]
  },
  {
   "cell_type": "markdown",
   "metadata": {},
   "source": [
    "### Error Assessment for Numerical Differentiation\n",
    "\n",
    "The approximation errors in numerical differentiation decrease with decreasing\n",
    "step size $h$ because they are powers of a small number $h$. \n",
    "In contrast, round-off errors increase with decreasing step size\n",
    "because you have to take more steps and do more calculations, and the round-off errors accumulate. The best approximation occurs for an $h$\n",
    "that minimizes the total error $\\epsilon_{\\textrm app} + \\epsilon_{\\textrm ro}$.\n",
    "A rough guide is to try and make \n",
    "$\\epsilon_{\\textrm ro} \\simeq\n",
    "\\epsilon_{\\textrm app}$.\n",
    "\n",
    "We have already estimated the approximation error in numerical differentiation\n",
    "rules by making a Taylor series expansion of $y(x + h)$. The approximation\n",
    "error with the forward-difference algorithm is ${\\cal O}(h)$, while that\n",
    "with the central-difference algorithm is ${\\cal O}(h^2)$:\n",
    "\n",
    "$$\n",
    "\\epsilon_{\\textrm app}^{\\textrm fd} \\simeq \\frac{y''h}{2}, \\quad\n",
    "\\epsilon_{\\textrm app}^{\\textrm cd} \\simeq\n",
    "\\frac{y'''h^{2}}{24}.$$\n",
    "\n",
    "To obtain a rough estimate of the round-off error, we observe that\n",
    "differentiation essentially subtracts the value of a function at argument $x$\n",
    "from that of the same function at argument $x + h$ and then divides by\n",
    "$h$: $y'\\simeq [y(t + h)−y(t)]/h$. As $h$ is made continually smaller, we\n",
    "eventually reach the round-off error limit where $y(t + h)$ and $y(t)$\n",
    "differ by just machine precision $\\epsilon_m$:\n",
    "\n",
    "$$\n",
    "\\epsilon_{\\textrm ro} \\simeq \\frac{\\epsilon_m}{h}.$$\n",
    "\n",
    "Consequently, round-off and approximation errors become equal when\n",
    "$$\\begin{align}\n",
    " &\\epsilon_{\\textrm ro}  \\simeq \\epsilon_{\\textrm app},&\\\\\n",
    " \\frac{\\epsilon_{m}}{h}  &\\simeq\n",
    "\\epsilon_{\\textrm app}^{\\textrm fd}   = \\frac{y^{(2)}h}{2}\n",
    ", & \\frac{\\epsilon_{m}}{h} &\\simeq\n",
    "\\epsilon_{\\textrm app}^{\\textrm cd}\n",
    "  =\\frac{y^{(3)}h^{2}}{24},\\\\\n",
    " \\Rightarrow \\quad h_{\\textrm fd}^{2} & =\n",
    "\\frac{2\\epsilon_{m}}{y^{(2)}},  &  \\Rightarrow \\quad\n",
    "h_{\\textrm cd}^{3} \\displaystyle &=\n",
    "\\frac{24\\epsilon_{m}}{y^{(3)}}.\n",
    "    \\end{align}$$\n",
    " We take $y′\\simeq y^{(2)} \\simeq y^{(3)}$ (which may be crude\n",
    "in general, although not bad for $e^t$ or $\\cos t$) and assume\n",
    "double precision, $\\epsilon_m \\simeq 10^{-15}$:\n",
    "$$\\begin{align}\n",
    "h_{\\textrm fd} &\\simeq 4\\times 10^{-8}, & h_{\\textrm cd} &\\simeq 3\\times\n",
    "10^{-5},\\\\\n",
    "\\Rightarrow \\quad \\epsilon_{\\textrm fd} &  \\simeq\n",
    "\\frac{\\epsilon_m} {h_{\\text{fd}}} \\simeq 3\\times 10^{-8}, & \\quad\n",
    "\\Rightarrow \\quad\\epsilon_{\\textrm cd}   & \\simeq\n",
    "\\frac{\\epsilon_m} { h_{\\text{cd}}} \\simeq 3\\times 10^{-11}.\n",
    "   \\end{align}$$\n",
    " This may seem backward because the better algorithm leads to a larger optimal\n",
    "$h$ value. It is not. The reason is that the error for the central-difference method is of order $h^2$, but the error for the forward-difference method is of order $h$."
   ]
  },
  {
   "cell_type": "markdown",
   "metadata": {},
   "source": [
    "### Second Derivatives ( physics example)\n",
    "\n",
    "Let’s say that you have measured the position $y(t)$\n",
    "*versus* time for a particle.  What is the force on the particle? "
   ]
  },
  {
   "cell_type": "code",
   "execution_count": 2,
   "metadata": {},
   "outputs": [
    {
     "data": {
      "image/png": "[encoded data removed]",
      "text/plain": [
       "<Figure size 432x288 with 1 Axes>"
      ]
     },
     "metadata": {
      "needs_background": "light"
     },
     "output_type": "display_data"
    }
   ],
   "source": [
    "import matplotlib.pyplot as plt\n",
    "# We're going to create some fake data here\n",
    "# from the function y(t) = 300 - 5t^2\n",
    "t_values = []\n",
    "y_values = []\n",
    "for t in range(20):\n",
    "    t_values.append(t)\n",
    "    y_values.append(300 - 5*t*t)\n",
    "#    y_values.append(np.exp(t))\n",
    "fig = plt.figure()\n",
    "ax = fig.add_subplot(1,1,1)\n",
    "ax.plot(t_values,y_values)\n",
    "ax.set_xlabel(\"time [s]\")\n",
    "ax.set_ylabel(\"y position [m]\")\n",
    "plt.show()"
   ]
  },
  {
   "cell_type": "markdown",
   "metadata": {},
   "source": [
    "\n",
    "By determining the derivative\n",
    "$d^2 y/dt^2$ from the $y(t)$ values, we\n",
    "determine the force.\n",
    "\n",
    "The concerns we expressed about errors in first derivatives are even\n",
    "more valid for second derivatives where additional subtractions may lead\n",
    "to additional cancellations. Let’s look again at the central-difference\n",
    "method:\n",
    "\n",
    "$$\\left. \\frac{dy(t)}{dt}\\right|_{cd} \\simeq \\frac{y(t+h/2) - y(t-h/2)}{h} .$$\n",
    "\n",
    "This algorithm gives the derivative at $t$ by moving forward and\n",
    "backward from $t$ by $h/2$. We take the second derivative $d^2 y/dt^2$\n",
    "to be the central difference of the first derivative:\n",
    "\n",
    "$$\\begin{align}\n",
    "\\frac{d^2 y(t)}{dt^2} & \\simeq    \\frac{y'(t+{h/2}) - y'(t-{h/2})}{h}   \\\\\n",
    "& \\simeq \\frac{[y(t+h) - y(t)] - [y(t)- y(t-h)]}{h^{2}} \\tag*{Form A}\\\\ & =\n",
    "\\frac{y(t+h) + y(t-h) - 2y(t)}{h^{2}}.\\tag*{Form B}\\end{align}$$\n",
    "\n",
    "As we did for first derivatives, we determine the second derivative at\n",
    "$t$ by evaluating the function in the region surrounding *t*. Although\n",
    "the Form B with three terms is more compact, it\n",
    "may increase subtractive cancellation errors by first storing the “large”\n",
    "number $y(t + h)+y(t − h)$ and then subtracting another large\n",
    "number $2y(t)$ from it. Is there a big difference between Form A and Form B?"
   ]
  },
  {
   "cell_type": "code",
   "execution_count": 3,
   "metadata": {},
   "outputs": [
    {
     "data": {
      "image/png": "[encoded data removed]",
      "text/plain": [
       "<Figure size 432x288 with 1 Axes>"
      ]
     },
     "metadata": {
      "needs_background": "light"
     },
     "output_type": "display_data"
    },
    {
     "name": "stdout",
     "output_type": "stream",
     "text": [
      "-10.0000000000000000000000, -10.0000000000000000000000\n"
     ]
    }
   ],
   "source": [
    "h = 1 # to match the t values above; otherwise we would have to interpolate\n",
    "second_derivative_valuesA = []\n",
    "second_derivative_valuesA.append(0)\n",
    "second_derivative_valuesB = []\n",
    "second_derivative_valuesB.append(0)\n",
    "\n",
    "for t in range(1,19): # We can't calculate the derivative without support on both sides\n",
    "    dy2dt2A = ((y_values[t+1] - y_values[t]) - (y_values[t] - y_values[t-1]))/h/h\n",
    "    dy2dt2B = (y_values[t+1] + y_values[t-1] - 2*y_values[t])/h/h\n",
    "    second_derivative_valuesA.append(dy2dt2A)\n",
    "    second_derivative_valuesB.append(dy2dt2B)\n",
    "    \n",
    "second_derivative_valuesA.append(0)\n",
    "second_derivative_valuesB.append(0)\n",
    "plt.plot(t_values,second_derivative_valuesA)\n",
    "plt.plot(t_values,second_derivative_valuesB)\n",
    "plt.show()\n",
    "print(\"%.22f, %.22f\" %(second_derivative_valuesA[10], second_derivative_valuesB[10])) # in the middle"
   ]
  },
  {
   "cell_type": "markdown",
   "metadata": {},
   "source": [
    "### Richardson Extrapolation [\"five-point\" and \"N-point\" algorithms]\n",
    "\n",
    "We have seen how to use different step sizes in numerical differentiation.\n",
    "We can combine different expressions in an attempt to eliminate the leading error terms.  This approach is called \"Richardson extrapolation.\"\n",
    "\n",
    "Our usual central difference formula with a full step $2h$ is\n",
    "\n",
    "$$y'(t) = \\frac{y(t+h)-y(t-h)}{2h} - \\frac{h^2}{6}y'''(t) + \\cdots$$\n",
    "\n",
    "Now we use a different step size $4h$:\n",
    "\n",
    "$$y'(t) = \\frac{y(t+2h)-y(t-2h)}{4h} - \\frac{4h^2}{6}y'''(t) + \\cdots$$\n",
    "\n",
    "The step size is twice as large, but the error is four times as large.  (This is why we want a small step size, in general.)\n",
    "\n",
    "To eliminate the leading error term (order $h^2$), we would divide the second expression by 4 and subtract it from the first expression.\n",
    "\n",
    "$$\\frac{3}{4}y'(t) = \\frac{y(t-2h)-8y(t-h)+8y(t+h)-y(t+2h)}{4h} + \\mathcal{O}(h^4) + \\cdots$$\n",
    "\n",
    "or \n",
    "\n",
    "$$y'(t) = \\frac{y(t-2h)-8y(t-h)+8y(t+h)-y(t+2h)}{12h} + \\mathcal{O}(h^4) + \\cdots$$\n",
    "\n",
    "Effectively we are using values from a wider interval $[t-2h, t+2h]$, but giving higher weights to values near $t$.\n",
    "\n",
    "This is the way to derive additional \"5-point\" and \"N-point\" formulas.\n",
    "The Richardson extrapolation can also be carried out numerically, by calculating the central-difference result with two different step sizes, then subtracting the results appropriately.\n",
    "\n",
    "This is a very nice trick for improving the precision of functions by carefully canceling the remaining errors at any order.  It does lead to some strange coefficients, though."
   ]
  },
  {
   "cell_type": "markdown",
   "metadata": {},
   "source": [
    "### Calculating the electric field\n",
    "\n",
    "In the Physics Introduction, the 1-dimensional field is $E = -dV/dx$."
   ]
  },
  {
   "cell_type": "code",
   "execution_count": 2,
   "metadata": {},
   "outputs": [
    {
     "name": "stdout",
     "output_type": "stream",
     "text": [
      "2 -4.0\n",
      "3 -6.0\n",
      "4 -8.0\n",
      "5 -10.0\n",
      "6 -12.0\n",
      "7 -14.0\n",
      "8 -16.0\n"
     ]
    },
    {
     "data": {
      "image/png": "[encoded data removed]",
      "text/plain": [
       "<Figure size 576x288 with 2 Axes>"
      ]
     },
     "metadata": {
      "needs_background": "light"
     },
     "output_type": "display_data"
    }
   ],
   "source": [
    "x = [ 0.,  1.,  2.,  3.,  4.,  5.,  6.,  7.,  8.,  9., 10.]\n",
    "V = [100.,  99.,  96.,  91.,  84.,  75.,  64.,  51.,  36.,  19.,   0.]\n",
    "E = []\n",
    "\n",
    "# Richardson extrapolation\n",
    "h = 1\n",
    "for i in range(2,9):\n",
    "    Vprime = (V[i-2] - 8*V[i-1] + 8*V[i+1] - V[i+2])/(12*h)\n",
    "    E.append(-Vprime)\n",
    "    print(i, Vprime)\n",
    "\n",
    "fig = plt.figure(figsize=(8,4))\n",
    "ax = fig.add_subplot(1,2,1)\n",
    "plt.plot(x,V)\n",
    "ax.set_xlabel(\"x [meters]\")\n",
    "ax.set_ylabel(\"potential [volts]\")\n",
    "ax = fig.add_subplot(1,2,2)\n",
    "plt.plot(x[2:9],E)\n",
    "ax.set_xlabel(\"x [meters]\")\n",
    "ax.set_ylabel(\"field [volts/meter]\")\n",
    "plt.show()"
   ]
  },
  {
   "cell_type": "markdown",
   "metadata": {},
   "source": [
    "### Conclusion\n",
    "\n",
    "There is not much more to say about differentiation.  In general it is much more straightforward than integration.  The thing to watch is the point spacing, if you have any control over the step size."
   ]
  },
  {
   "cell_type": "markdown",
   "metadata": {},
   "source": [
    "## Introduction to Numerical Integration \n",
    "\n",
    "Numerical integration is less straightforward than differentiation.  The reason is that contributions from each point in the domain have an effect on the final integral.  This is not true of differentiation, for which the impact of a single point is local.\n",
    "\n",
    "Numerical integration is sometimes called *numerical quadrature*.\n",
    "Some explanations say this is related to the \"squaring of the circle,\" drawing a square with the same area as a given circle.\n",
    "Other explanations say the name comes from summing quadrilaterals which are used to approximate the function.\n",
    "Either way, it is a very rich topic, with many complex techniques to ensure good accuracy.\n",
    "\n",
    "The basic strategy for all of the numerical integration formulas is to approximate the function in a local interval with a function that can be integrated exactly.  The simplest example is of course a constant (zeroth-order polynomial) function, next simplest is a first-degree polynomial, and so on.\n",
    "\n",
    "### Quadrature as Box Counting\n",
    "\n",
    "The formal Riemann definition of an integral is the limit of the sum over rectangular boxes\n",
    "as the width $h$ of the boxes approaches zero:\n",
    "\n",
    "$$\n",
    "  \\int_{a}^{b} f(x)  dx = \\lim_{h\\rightarrow 0} \\left[h\n",
    "    \\sum_{i=1}^{(b-a)/h} f(x_{i}) \\right].$$\n",
    "\n",
    "The numerical integral of a function $f(x)$ is approximated as the\n",
    "equivalent of a finite sum over $N$ boxes of height $f(x_i)$ and width\n",
    "$w_i$:\n",
    "\n",
    "$$\\int_{a}^{b} f(x)  dx \\simeq \\sum_{i=1}^{N} f(x_{i}) w_{i},$$\n",
    "\n",
    "which is similar to the Riemann definition except there is requirement that the box width approach 0.\n",
    "\n",
    "This is the standard form for all integration\n",
    "algorithms; \n",
    "* the function $f(x)$ is evaluated at $N$ points in the interval $[a, b]$\n",
    "* the function values $f_i \\equiv f(x_i)$ are summed with weights $w_i$\n",
    "\n",
    "In the case of the \"box sum,\" we will see that the weights are indeed the width, but this need not be true in general.\n",
    "\n",
    "**The flexibility in the numerical integration algorithms is all in the weights!**\n",
    "\n",
    "Because the “best” integration\n",
    "rule depends on the specific behavior of $f(x)$, there is no universally best\n",
    "integration scheme. Many of the \"professional-level\" integration routines adapt by choosing the best algorithm for a given function in a specific range.\n",
    "\n",
    "### Algorithm: Trapezoid Rule\n",
    "\n",
    "The trapezoid and Simpson integration rules both use evenly spaced\n",
    "values of $x$. They use $N$ points\n",
    "$x_i$ $(i = 1, N)$ evenly spaced at a distance $h$ \n",
    "throughout the integration region $[a, b]$ and *include the\n",
    "endpoints* in the integration region. This means that there are\n",
    "$(N − 1)$ intervals of length $h$:\n",
    "\n",
    "$$h= \\frac{b-a}{N-1},\\qquad x_{i} = a + (i-1) h, \\qquad i=1, N,$$\n",
    "\n",
    "where we start our counting at $i = 1$. \n",
    "\n",
    "The **trapezoid rule** uses the simplest possible approximation to the function.  \n",
    "It takes each\n",
    "integration interval $i$ and constructs a trapezoid of width $h$ in it. This approximates $f(x)$ by a straight line (first-order polynomial) in each\n",
    "interval $i$ and uses the average height\n",
    "($f_i + *f_{i + 1})/2$ as the local value for $f$. The\n",
    "area of each such trapezoid is\n",
    "\n",
    "$$\\int_{x_{i}}^{x_{i}+h}f(x) dx \\simeq \\frac{h(f_{i}+f_{i+1})}{2} =\n",
    "\\frac{1}{2}hf_{i} + \\frac{1}{2}hf_{i+1}.$$\n",
    "\n",
    "<img src=\"Figures/Trapezoid_Rule.png\" width=\"50%\">\n",
    "\n",
    "In terms of our standard integration formula, the trapezoid rule has $N=2$ and *local weights* $w_i = \\frac{h}{2}$.\n",
    "\n",
    "In order\n",
    "to apply the trapezoid rule to the entire region $[a,b]$, we add the\n",
    "contributions from each subinterval:\n",
    "\n",
    "$$\n",
    "\\int_{a}^{b}f(x)  dx \\simeq \\frac{h}{2}f_{1} + hf_{2}\n",
    "  +hf_{3} + \\cdots + hf_{N-1} + \\frac{h}{2}f_{N} .$$\n",
    "\n",
    "You will notice that because the internal points are counted twice (as\n",
    "the end of one interval and as the beginning of the next), they have *total\n",
    "weights* of $h/2 + h/2 = h$, whereas the endpoints are counted just\n",
    "once, and on that account have *total weights* of only $h/2$. In terms of our\n",
    "standard integration rule:\n",
    "\n",
    "The following code implements the trapezoid rule to\n",
    "integrate an arbitrary function $f(y)$. Note\n",
    "how the step size $h$ depends on the interval and how the weights at the\n",
    "ends and middle differ."
   ]
  },
  {
   "cell_type": "markdown",
   "metadata": {},
   "source": [
    "### TrapMethods.py, Notebook Version "
   ]
  },
  {
   "cell_type": "code",
   "execution_count": 3,
   "metadata": {},
   "outputs": [
    {
     "name": "stdout",
     "output_type": "stream",
     "text": [
      "Final sum =  9.000003130214854\n"
     ]
    }
   ],
   "source": [
    "# TrapMethods.py      Trapezoid integration using a defined function f(y) = y^2\n",
    "\n",
    "import numpy as np\n",
    "\n",
    "# Constant definitions: note reminders of float vs. int\n",
    "A = 0.0\n",
    "B = 3.0\n",
    "N = 1200\n",
    "\n",
    "def f(y):                                   # Integrand definition function\n",
    "    return y*y\n",
    "\n",
    "def wTrap(i, h):                            # Total weight definition function\n",
    "    if ( (i == 1) or (i == N) ):\n",
    "        wTotal = h/2.0\n",
    "    else:\n",
    "        wTotal = h\n",
    "    return wTotal\n",
    "\n",
    "h = (B - A)/(N - 1)\n",
    "suma = 0.0\n",
    "\n",
    "for i in range(1, N + 1):\n",
    "    t = A + (i - 1)*h\n",
    "    suma  = suma + wTrap(i, h) * f(t)\n",
    "    \n",
    "print('Final sum = ', suma)"
   ]
  },
  {
   "cell_type": "markdown",
   "metadata": {},
   "source": [
    "### Algorithm: Simpson’s Rule\n",
    "\n",
    "A better approach is to approximate the function with a second-order polynomial over the local interval.\n",
    "**Simpson’s rule** approximates the integrand $f(x)$ by a parabola for each\n",
    "interval: \n",
    "\n",
    "$$\\begin{align}\n",
    "f(x) \\simeq \\alpha x^{2} + \\beta x + \\gamma ,\n",
    "   \\end{align}$$\n",
    "   \n",
    "We can calculate the weights by looking at the Taylor series expansion (with $f'$ and $f''$) in the local interval, or by calculating the area under the parabola directly.\n",
    "  \n",
    "We assume that all intervals are equally spaced. The area under the parabola for\n",
    "each interval is\n",
    "\n",
    "$$\n",
    "\\int_{x_i}^{x_i+h}(\\alpha x^{2} + \\beta x +\\gamma)  dx = \\left.\n",
    "\\frac{\\alpha x^3 } { 3} +   \\frac{\\beta x^2} { 2}\n",
    "    + \\gamma x \\right|_{x_i}^{x_i+h}.$$\n",
    "\n",
    "In order to relate the parameters $\\alpha$, $\\beta$, and $\\gamma$ to the function, we\n",
    "consider an interval from −1 to +1, in which case\n",
    "\n",
    "$$\n",
    "\\int_{-1}^{1}(\\alpha x^{2} + \\beta x +\\gamma)  dx =\n",
    "\\frac{2\\alpha}{3} + 2\\gamma.$$\n",
    "\n",
    "But we notice that\n",
    "\n",
    "$$\n",
    "\\begin{align}\n",
    " f(-1) & = \\alpha -\\beta+\\gamma, \\quad  f(0) = \\gamma, \\quad f(1) = \\alpha + \\beta +\n",
    "  \\gamma,\\\\\n",
    "  \\Rightarrow & \\alpha = \\displaystyle \\frac{f(1)+f(-1)} { 2} -f(0), \\quad\n",
    "   \\beta =       \\frac{f(1)-f(-1)} { 2},  \\quad \\gamma= f(0).\n",
    "   \\end{align}$$\n",
    "\n",
    "In this way we can express the integral as the weighted sum over the\n",
    "values of the function at three points:\n",
    "\n",
    "$$\n",
    "\\int_{-1}^{1}(\\alpha x^{2} + \\beta x +\\gamma)  dx =\n",
    "\\frac{f(-1)}{3} + \\frac{4f(0)}{3} + \\frac{f(1)}{3} .$$\n",
    "\n",
    "The *local weights* are therefore $(h/3, 4h/3, h/3)$.\n",
    "\n",
    "Because three values of the function are needed, we generalize this\n",
    "result to our problem by evaluating the integral over two adjacent\n",
    "intervals, in which case we evaluate the function at the two endpoints\n",
    "and in the middle:\n",
    "\n",
    "$$\\begin{align}\n",
    "\\int_{x_{i}-h}^{x_{i}+h}f(x)  dx & =  \\int_{x_{i}}^{x_{i}+h}f(x)\n",
    "dx + \\int_{x_{i}-h}^{x_{i}}f(x) dx\\\\\n",
    "  & \\simeq   \\frac{h}{3}f_{i-1}\n",
    "    + \\frac{4h}{3}f_{i} + \\frac{h}{3}f_{i+1} .\\tag*{5.40}\n",
    "   \\end{align}$$\n",
    "\n",
    "Simpson’s rule requires the elementary integration to be over *pairs* of\n",
    "intervals, which in turn requires that the *total number of intervals be\n",
    "even or that the number of points $N$ be odd*. In order to apply\n",
    "Simpson’s rule to the entire interval, we add up the contributions from\n",
    "each pair of subintervals, counting all but the first and last endpoints\n",
    "twice:\n",
    "\n",
    "$$\\int_{a}^{b}\\!\\!f(x)dx \\simeq \\frac{h}{3}f_{1} +\n",
    "\\frac{4h}{3}f_{2}+ \\frac{2h}{3}f_{3} + \\frac{4h}{3}f_{4} + \\cdots\n",
    "+\\frac{4h}{3}f_{N-1} + \\frac{h}{3}f_{N}.\n",
    "\\tag*{5.41}$$\n",
    "\n",
    "The *total weights* for Simpson's rule are:\n",
    "\n",
    "$$\\tag*{5.42}\n",
    "  w_{i} = \\left\\{\\frac{h}{3},  \\frac{4h}{3},\n",
    "\\frac{2h}{3},  \\frac{4h}{3},   \\ldots,\n",
    "    \\frac{4h}{3},   \\frac{h}{3} \\right\\} \\qquad   \\mbox{(Simpson's rule)}.$$\n",
    "\n",
    "The sum of these weights provides a useful check on your integration:\n",
    "\n",
    "$$\n",
    "\\sum_{i=1}^{N} w_{i} = (N-1) h.$$\n",
    "\n",
    "*Remember*, the number of points *N* must be odd for Simpson’s rule."
   ]
  },
  {
   "cell_type": "markdown",
   "metadata": {},
   "source": [
    "## Integration Error Estimates\n",
    "\n",
    "In general, you should choose an integration rule that gives an accurate answer\n",
    "using the least number of integration points. We obtain a crude estimate of the\n",
    "*approximation* or *algorithmic error* $\\cal{E}$ for the equal-spacing rules\n",
    "and their relative error $\\epsilon$ by expanding $f(x)$ in a Taylor series around the\n",
    "midpoint of the integration interval.\n",
    "We then multiply that error by the number\n",
    "of intervals $N$ to estimate the error for the entire region $[a, b]$. For the\n",
    "trapezoid and Simpson rules this yields\n",
    "\n",
    "$${\\cal E}_t = O\\left(\\frac{[b-a]^{3}}{N^{2}}\n",
    "\\right)f^{(2)},\\quad {\\cal E}_{s} = O\\left(\\frac{[b-a]^{5}}{N^{4}} \\right)\n",
    "f^{(4)},\\quad \\epsilon_{t,s} = \\frac{{\\cal E}_{t,s}}{f},$$\n",
    "\n",
    "where $\\epsilon$ is a measure of the relative error. \n",
    "Consequently, for small intervals and functions $f(x)$ with\n",
    "well-behaved derivatives, Simpson’s rule should converge more rapidly\n",
    "than the trapezoid rule.  This is not surprising, since Simpson's rule captures the second derivative term of the approximation.\n",
    "\n",
    "To model the round-off error in integration, we assume that after $N$\n",
    "steps the *relative* round-off error is random and of the form\n",
    "\n",
    "$$\n",
    "\\epsilon_{\\textrm ro} \\simeq \\sqrt{N} \\epsilon_{m},$$\n",
    "\n",
    "where $\\epsilon_m$ is the machine precision (remember that $\\epsilon \\sim 10^{−7}$\n",
    "for single precision and $\\epsilon \\sim 10^{−15}$ for double precision). \n",
    "We want to\n",
    "determine an $N$ that minimizes the total error, that is, the sum of the\n",
    "approximation and round-off errors:\n",
    "\n",
    "$$\n",
    "\\epsilon_{\\textrm tot} \\simeq  \\epsilon_{\\textrm ro} + \\epsilon_{\\textrm app}.$$\n",
    "\n",
    "This occurs, approximately, when the two errors are of equal magnitude,\n",
    "which we approximate even further by assuming that the two errors are\n",
    "exactly equal:\n",
    "\n",
    "$$\n",
    "\\epsilon_{\\textrm ro} = \\epsilon_{\\textrm app} =\\frac{{\\cal\n",
    "E}_{\\textrm trap,simp}}{f} .$$\n",
    "\n",
    "To continue the search for optimum $N$ for a general function $f$, we\n",
    "set the scale of function size and the lengths by assuming\n",
    "\n",
    "$$\n",
    "\\frac{f^{(n)}}{f} \\simeq 1 , \\quad b - a = 1 \\quad \\Rightarrow \\quad  h =\n",
    "\\frac{1}{N}.$$\n",
    "\n",
    "This estimate, when applied to the **trapezoid rule**, yields\n",
    "\n",
    "$$\\begin{align}\n",
    "\\sqrt{N} \\epsilon_{m} & \\simeq   \\frac{f^{(2)} (b-a)^{3}}{f N^{2}} =\n",
    "\\frac{1}{N^{2}},\\\\\n",
    "\\Rightarrow \\quad N & \\simeq   \\frac{1}{(\\epsilon _{m})^{2/5}} =\n",
    "\\left(\\frac{1}{10^{-15}}\\right)^{2/5} = 10^{6},\\\\ \n",
    "\\Rightarrow \\epsilon_{\\textrm ro} & \\simeq \\sqrt{N} \\epsilon_{m}\n",
    "=10^{-12}.\n",
    "   \\end{align}$$\n",
    "\n",
    "And the estimate, when applied to **Simpson’s rule**, yields\n",
    "\n",
    "$$\\begin{align}\n",
    "\\sqrt{N} \\epsilon_{m} & =  \\frac{f^{(4)}(b-a)^{5}}{fN^{4}} =\n",
    "\\frac{1}{N^{4}}, \\\\ \n",
    "\\Rightarrow N & =  \\frac{1}{(\\epsilon _{m})^{2/9}}\n",
    "=\\left(\\frac{1}{10^{-15}}\\right)^{2/9} = 2154,\\\\\n",
    "\\Rightarrow \\epsilon_{\\textrm ro} & \\simeq    \\sqrt{N} \\epsilon_{m} = 5\n",
    "\\times 10^{-14}.\n",
    "   \\end{align}$$\n",
    "\n",
    "These results show\n",
    "\n",
    "-   Simpson’s rule requires fewer points and has smaller errors than the\n",
    "    trapezoid rule.\n",
    "\n",
    "-   It is possible to obtain an error close to machine precision with\n",
    "    Simpson’s rule (and with other higher-order integration algorithms).\n",
    "\n",
    "-   Obtaining the *best* numerical approximation to an integral is not\n",
    "    achieved by letting $N \\rightarrow \\infty$ but with a relatively small $N \\leq 1000$.\n",
    "    Larger $N$ only makes the round-off error dominate."
   ]
  },
  {
   "cell_type": "code",
   "execution_count": 4,
   "metadata": {},
   "outputs": [
    {
     "name": "stdout",
     "output_type": "stream",
     "text": [
      "Final sum (trapezoid rule) =  0.9999794382396079\n",
      "Final sum (Simpsons's rule)=  1.0000000003382359\n"
     ]
    }
   ],
   "source": [
    "# Tests of numerical integration\n",
    "from numpy import *\n",
    "\n",
    "# Constant definitions: note reminders of float vs. int\n",
    "A = 0.0\n",
    "B = pi/2.\n",
    "N = 101         # must be odd for Simpson's rule\n",
    "\n",
    "def f(y):                                   # Integrand definition function\n",
    "    return sin(y)\n",
    "\n",
    "def wTrap(i, h):                            # Total weight definition function\n",
    "    if ( (i == 1) or (i == N) ):\n",
    "        wTotal = h/2.0\n",
    "    else:\n",
    "        wTotal = h\n",
    "    return wTotal\n",
    "\n",
    "def wSimpson(i, h):                            \n",
    "    if ( (i == 1) or (i == N) ):\n",
    "        wTotal = h/3.0\n",
    "    elif (i%2 == 0):\n",
    "        # Even i\n",
    "        wTotal = 4.*h/3.0\n",
    "    else:\n",
    "        # Odd i\n",
    "        wTotal = 2.*h/3.0\n",
    "    #print(i, wTotal)\n",
    "    return wTotal\n",
    "\n",
    "h = (B - A)/(N - 1)\n",
    "suma_trap = 0.0\n",
    "suma_simp = 0.0\n",
    "\n",
    "for i in range(1, N + 1):\n",
    "    t = A + (i - 1)*h\n",
    "    suma_trap  = suma_trap + wTrap(i, h) * f(t)\n",
    "    suma_simp  = suma_simp + wSimpson(i, h) * f(t)\n",
    "    \n",
    "print(\"Final sum (trapezoid rule) = \", suma_trap)\n",
    "print(\"Final sum (Simpsons's rule)= \", suma_simp)"
   ]
  },
  {
   "cell_type": "markdown",
   "metadata": {
    "collapsed": true
   },
   "source": [
    "## Python implementations\n",
    "\n",
    "For reference, I give here the Python implementations of the methods we have derived and tested.\n",
    "\n",
    "* [`scipy.misc.derivative`](https://docs.scipy.org/doc/scipy/reference/generated/scipy.misc.derivative.html) implements the central-difference formula for derivatives of any order. (But it looks like this is going to be removed from SciPy soon; maybe it is considered to be trivial?)\n",
    "* [`numpy.gradient`](https://numpy.org/doc/stable/reference/generated/numpy.gradient.html) can be used in special cases to find the derivative.  I don't recommend using this for 1-D functions.\n",
    "* [`numpy.trapz`](https://numpy.org/doc/stable/reference/generated/numpy.trapz.html) implements the trapezoidal rule for numerical integration\n",
    "* [`scipy.integrate.simpson`](https://docs.scipy.org/doc/scipy/reference/generated/scipy.integrate.simpson.html) implements Simpson's rule for numerical integration"
   ]
  },
  {
   "cell_type": "code",
   "execution_count": 7,
   "metadata": {},
   "outputs": [
    {
     "name": "stdout",
     "output_type": "stream",
     "text": [
      "[ 0.   0.1  0.2  0.3  0.4  0.5  0.6  0.7  0.8  0.9  1.   1.1  1.2  1.3\n",
      "  1.4  1.5  1.6  1.7  1.8  1.9  2.   2.1  2.2  2.3  2.4  2.5  2.6  2.7\n",
      "  2.8  2.9  3.   3.1  3.2  3.3  3.4  3.5  3.6  3.7  3.8  3.9  4.   4.1\n",
      "  4.2  4.3  4.4  4.5  4.6  4.7  4.8  4.9  5.   5.1  5.2  5.3  5.4  5.5\n",
      "  5.6  5.7  5.8  5.9  6.   6.1  6.2  6.3  6.4  6.5  6.6  6.7  6.8  6.9\n",
      "  7.   7.1  7.2  7.3  7.4  7.5  7.6  7.7  7.8  7.9  8.   8.1  8.2  8.3\n",
      "  8.4  8.5  8.6  8.7  8.8  8.9  9.   9.1  9.2  9.3  9.4  9.5  9.6  9.7\n",
      "  9.8  9.9 10. ]\n",
      "[ 300.    299.95  299.8   299.55  299.2   298.75  298.2   297.55  296.8\n",
      "  295.95  295.    293.95  292.8   291.55  290.2   288.75  287.2   285.55\n",
      "  283.8   281.95  280.    277.95  275.8   273.55  271.2   268.75  266.2\n",
      "  263.55  260.8   257.95  255.    251.95  248.8   245.55  242.2   238.75\n",
      "  235.2   231.55  227.8   223.95  220.    215.95  211.8   207.55  203.2\n",
      "  198.75  194.2   189.55  184.8   179.95  175.    169.95  164.8   159.55\n",
      "  154.2   148.75  143.2   137.55  131.8   125.95  120.    113.95  107.8\n",
      "  101.55   95.2    88.75   82.2    75.55   68.8    61.95   55.     47.95\n",
      "   40.8    33.55   26.2    18.75   11.2     3.55   -4.2   -12.05  -20.\n",
      "  -28.05  -36.2   -44.45  -52.8   -61.25  -69.8   -78.45  -87.2   -96.05\n",
      " -105.   -114.05 -123.2  -132.45 -141.8  -151.25 -160.8  -170.45 -180.2\n",
      " -190.05 -200.  ]\n"
     ]
    }
   ],
   "source": [
    "import numpy\n",
    "\n",
    "def f(x):\n",
    "    return 300. - 5.*x*x\n",
    "\n",
    "x = numpy.linspace(0,10,101)\n",
    "y = f(x)\n",
    "print(x)\n",
    "print(y)"
   ]
  },
  {
   "cell_type": "code",
   "execution_count": 8,
   "metadata": {},
   "outputs": [
    {
     "name": "stdout",
     "output_type": "stream",
     "text": [
      "-99.99999991805453\n",
      "-10.00444171950221\n",
      "-10.000002248489182\n"
     ]
    }
   ],
   "source": [
    "import scipy.misc\n",
    "print(scipy.misc.derivative(f, 10.0, dx=1e-6, n=1))\n",
    "print(scipy.misc.derivative(f, 10.0, dx=1e-6, n=2))\n",
    "print(scipy.misc.derivative(f, 10.0, dx=1e-4, n=2))"
   ]
  },
  {
   "cell_type": "code",
   "execution_count": 9,
   "metadata": {},
   "outputs": [
    {
     "name": "stdout",
     "output_type": "stream",
     "text": [
      "1333.25\n"
     ]
    }
   ],
   "source": [
    "print(numpy.trapz(y,x))"
   ]
  },
  {
   "cell_type": "code",
   "execution_count": 10,
   "metadata": {},
   "outputs": [
    {
     "name": "stdout",
     "output_type": "stream",
     "text": [
      "1333.3333333333335\n"
     ]
    }
   ],
   "source": [
    "from scipy import integrate\n",
    "print(scipy.integrate.simpson(y,x))"
   ]
  },
  {
   "cell_type": "code",
   "execution_count": null,
   "metadata": {},
   "outputs": [],
   "source": []
  }
 ],
 "metadata": {
  "anaconda-cloud": {},
  "kernelspec": {
   "display_name": "Python 3 (ipykernel)",
   "language": "python",
   "name": "python3"
  },
  "language_info": {
   "codemirror_mode": {
    "name": "ipython",
    "version": 3
   },
   "file_extension": ".py",
   "mimetype": "text/x-python",
   "name": "python",
   "nbconvert_exporter": "python",
   "pygments_lexer": "ipython3",
   "version": "3.9.7"
  }
 },
 "nbformat": 4,
 "nbformat_minor": 1
}
