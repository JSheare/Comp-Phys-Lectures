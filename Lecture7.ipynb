{
 "cells": [
  {
   "cell_type": "markdown",
   "metadata": {},
   "source": [
    "# *Lecture 7*\n",
    "\n",
    "\n",
    "# Advanced Monte Carlo Integration Methods and Applications\n",
    "## (von Neumann Method, Metropolis Algorithm, and Ising Model)\n",
    "\n",
    "| |\n",
    "|:---:|\n",
    "|Selected Content [From **COMPUTATIONAL PHYSICS**, 3rd Ed, 2015](http://physics.oregonstate.edu/~rubin/Books/CPbook/index.html) <br>RH Landau, MJ Paez, and CC Bordeianu (deceased) <br>Copyrights: <br> [Wiley-VCH, Berlin;](http://www.wiley-vch.de/publish/en/books/ISBN3-527-41315-4/) and [Wiley & Sons, New York](http://www.wiley.com/WileyCDA/WileyTitle/productCd-3527413154.html)<br>  R Landau, Oregon State Unv, <br>MJ Paez, Univ Antioquia,<br> C Bordeianu, Univ Bucharest, 2015.<br> Support by National Science Foundation.|\n",
    "| Additional content from By HeMath [CC BY-SA 4.0 (https://creativecommons.org/licenses/by-sa/4.0)], from Wikimedia Commons"
   ]
  },
  {
   "cell_type": "markdown",
   "metadata": {},
   "source": [
    "## Application: \"Monte Carlo Simulation\" of Spontaneous Radioactive Decay\n",
    "\n",
    "Spontaneous decay is a natural process in which a particle, with\n",
    "no external stimulation, decays into other particles. Although\n",
    "the probability of decay of any one particle in any time interval\n",
    "is constant, the exact time when a specific particle decays is a random event.\n",
    "In other words, the probability\n",
    "$\\mathcal{P}(t)$ of any one particle decaying per unit time interval is a\n",
    "constant, yet when that particle decays it is gone forever. Of\n",
    "course, as the total number $N(t)$ of particles decreases with time, so does the number that decay per unit time.\n",
    "Nevertheless, the probability of any one\n",
    "particle decaying in some time interval remains the same for as long as that particle exists.\n",
    "\n",
    "$$\\begin{align} \n",
    "\\mathcal{P} & =   \\frac{\\Delta N(t)/N(t)} {\\Delta t}  =  - \\lambda\\\\\n",
    " &     \\  \\frac{\\Delta  N(t)}{\\Delta t} = -\\lambda N(t) \\\\\n",
    " & \\Delta  N(t) = -\\lambda N(t) \\Delta t\n",
    "\\end{align}$$\n",
    "\n",
    "where the constant $\\lambda$ is called the *decay rate* and the minus sign indicates a decreasing number.  Because $N(t)$ decreases in time,  the *activity* \n",
    "${\\Delta N(t)}/{\\Delta t}$ \n",
    "(sometimes called decay rate) also decreases with time. \n",
    "\n",
    "This *finite-difference equation* for $\\Delta N(t)$ relates\n",
    "the experimental quantities $N(t)$, $\\Delta N(t)$, and\n",
    "$\\Delta t$. Although a finite-difference equation cannot be integrated the way a\n",
    "differential equation can, it can be simulated numerically. Because the\n",
    "process is random, we cannot predict a single value for $\\Delta N(t)$, \n",
    "although we can predict the average number of decays when\n",
    "observations are made of many identical systems of $N$ decaying\n",
    "particles."
   ]
  },
  {
   "cell_type": "markdown",
   "metadata": {},
   "source": [
    "When the number of particles $N\\rightarrow \\infty$ and the observation time interval $\\Delta t \\rightarrow 0$, our difference equation becomes a differential equation, and we obtain the familiar exponential decay law:\n",
    "\n",
    "$$\n",
    " \\frac{\\Delta N(t)}{\\Delta t} \\longrightarrow \\frac{dN(t)}{dt} = - \\lambda N(t)\n",
    "$$\n",
    "   \n",
    "This can be integrated to obtain the time dependence of the total\n",
    "number of particles and of the total activity:\n",
    "\n",
    "$$\\begin{align}\n",
    "N(t) & =  N(0) e^{-\\lambda t} = N(0) e^{-t/\\tau}\\\\\n",
    "\\frac{dN(t)}{dt} & =  -\\lambda N(0) e^{-\\lambda t}= \\frac{dN}{dt}(0)\n",
    "e^{-\\lambda t}\n",
    "\\end{align}$$\n",
    "\n",
    "In this limit ($N\\rightarrow\\infty$ and $\\Delta t \\rightarrow 0$) we can identify the decay rate $\\lambda$ with the inverse\n",
    "lifetime: $\\lambda =  1/\\tau$.\n",
    "   \n",
    "The exponential decay formula is a good\n",
    "description for a large number of particles where\n",
    "$\\Delta N/N \\simeq 0$.  However, in nature  $N(t)$ can be a small number, and in that case we\n",
    "have a statistical and not a continuous process. \n",
    "The exponential decay formula becomes less and less accurate as the number of particles gets smaller and smaller."
   ]
  },
  {
   "cell_type": "markdown",
   "metadata": {},
   "source": [
    "### Simulation Implementation\n",
    "\n",
    "Because each individual decay is inherently random, we throw a random number for each particle (atom) to decide if it decays or not.\n",
    "The probability for each particle to decay per unit time is $\\mathcal{P}$,\n",
    "so a high $\\mathcal{P}$ means a particle is likely to decay.\n",
    "\n",
    "Note that $\\Delta t$ matters!  The probability to decay during a 1-second timestep is not the same as the probability to decay during a 2-second timestep."
   ]
  },
  {
   "cell_type": "code",
   "execution_count": 4,
   "metadata": {},
   "outputs": [
    {
     "data": {
      "image/png": "[encoded data removed]",
      "text/plain": [
       "<Figure size 432x288 with 1 Axes>"
      ]
     },
     "metadata": {
      "needs_background": "light"
     },
     "output_type": "display_data"
    }
   ],
   "source": [
    "# Particle decay with decay constant lambda1\n",
    "\n",
    "import numpy as np\n",
    "import random\n",
    "import matplotlib.pyplot as plt\n",
    "\n",
    "seed = 68111                                   \n",
    "lambda1 = 0.2                                  # Decay constant\n",
    "max_atoms = 1000\n",
    "#max_atoms = 100\n",
    "time_max = 30\n",
    "nsteps = 1000\n",
    "number_left = max_atoms                        # Initial value\n",
    "time_values = np.linspace(0., time_max, nsteps)\n",
    "time_step = (time_max-0.)/(nsteps-1)\n",
    "y_values = np.zeros(len(time_values))\n",
    "\n",
    "time_index = 0\n",
    "for time in time_values:                       # Time loop\n",
    "    for atom in range(number_left):            # Decay loop\n",
    "        decay = random.random()\n",
    "        if (decay < lambda1*time_step):\n",
    "            number_left -= 1                   # This atom has decayed\n",
    "    y_values[time_index] = number_left\n",
    "    time_values[time_index] = time\n",
    "    time_index += 1\n",
    "\n",
    "plt.plot(time_values,y_values)    \n",
    "plt.title(\"Spontaneous Decay of %d atoms ($\\lambda$=%.2e)\" % (max_atoms, lambda1))\n",
    "plt.xlabel(\"Time [seconds]\")\n",
    "plt.ylabel(\"Number of atoms left\")\n",
    "plt.show()"
   ]
  },
  {
   "cell_type": "markdown",
   "metadata": {},
   "source": [
    "## Introduction to Monte Carlo Integration\n",
    "\n",
    "There is a method even simpler than Gaussian quadrature, where we needed $N$ points at which to evaluate the integral.\n",
    "If we know the mean value of a function over some interval, then we can easily calculate the value of the integral.\n",
    "\n",
    "$$I = \\int_{a}^{b} f(x)\\ dx = (b-a)\\langle f \\rangle$$\n",
    "\n",
    "The Monte Carlo method of \n",
    "integration uses a large number of random points to estimate the mean value of the function.\n",
    "\n",
    "The random sequence of values $x_i$ is used to evaluate $f(x_i)$ a total of $N$ times and then calculate the mean value.\n",
    "\n",
    "$$\\langle f \\rangle \\simeq \\frac{1}{N}\\sum_{i=1}^{N} f(x_{i})$$\n",
    "\n",
    "This gives us the very simple general Monte Carlo integration rule:\n",
    "\n",
    "$$\\int_{a}^{b} f(x)\\ dx \\simeq (b-a) \\frac{1}{N}\\sum_{i=1}^{N} f(x_{i})$$\n",
    "\n",
    "Even without any optimization, we can approximate the true integral as long as $N$ is sufficiently large or if we make many \"measurements\" of $I$ using a finite sequence of points.\n",
    "The reason is that the random sums tend to be distributed about the expected value of the integral, according to the central limit theorem.\n",
    "\n",
    "The uncertainty associated with this formula is\n",
    "\n",
    "$$\\begin{align}\n",
    "\\sigma_I^2 &\\simeq \\frac{1}{N} \\sigma_f^2 \\\\\n",
    "&= \\frac{1}{N} \\left[ \\frac{1}{N} \\sum_{i=1}^N f_i^2 - \\left( \\frac{1}{N} \\sum_{i=1}^N f_i \\right)^2 \\right]\n",
    "\\end{align}$$\n",
    "\n",
    "That is, the uncertainty in the estimate of the integral decreases as $N^{-1/2}$ with the Monte Carlo method.\n",
    "This may not sound very promising when compared to uncertainties of $N^{-2}$ achieved with the trapezoidal method, but the real power of the Monte Carlo method will be realized for multidimensional integrals. \n",
    "\n",
    "Of course, this works only if the $x_i$ are randomly and uniformly distributed; we cannot expect to get the integral $\\int_a^b$ if most of the $x_i$ values are in the first half of the interval!"
   ]
  },
  {
   "cell_type": "markdown",
   "metadata": {},
   "source": [
    "### Example integrations with uniform random number sampling\n",
    "\n",
    "Evaluate the following integral with the Monte Carlo method.\n",
    "\n",
    "$$\\int_0^2 e^x dx = e -1 \\simeq 1.718$$"
   ]
  },
  {
   "cell_type": "code",
   "execution_count": 21,
   "metadata": {},
   "outputs": [
    {
     "name": "stdout",
     "output_type": "stream",
     "text": [
      "6.361015181721697\n"
     ]
    }
   ],
   "source": [
    "# Monte Carlo integration with uniform random number sampling\n",
    "import numpy as np\n",
    "import random\n",
    "\n",
    "def f(x):\n",
    "    return np.exp(x)\n",
    "\n",
    "N = 1000\n",
    "N = 10000\n",
    "#N = 3\n",
    "sum = 0.\n",
    "for i in range(N):\n",
    "    x = random.random()*2.0 # Random numbers between 0 and 2\n",
    "    sum += f(x)\n",
    "print(2.0*sum/N)"
   ]
  },
  {
   "cell_type": "code",
   "execution_count": 3,
   "metadata": {},
   "outputs": [
    {
     "data": {
      "image/png": "[encoded data removed]",
      "text/plain": [
       "<Figure size 432x288 with 1 Axes>"
      ]
     },
     "metadata": {
      "needs_background": "light"
     },
     "output_type": "display_data"
    }
   ],
   "source": [
    "import matplotlib.pyplot as plt\n",
    "x = np.linspace(0,1,20)\n",
    "y = f(x)\n",
    "plt.plot(x,y)\n",
    "plt.show()"
   ]
  },
  {
   "cell_type": "markdown",
   "metadata": {},
   "source": [
    "Even though the variation of this function is small, it may still seem strange that we use random numbers uniformly throughout the interval when the $x$ values in the second half of the interval dominate the integral.\n",
    "\n",
    "Here is another example of 1-D Monte Carlo integration:\n",
    "\n",
    "$$\\int_0^1 \\frac{dx}{1+x^2} = \\frac{\\pi}{4} = 0.785$$"
   ]
  },
  {
   "cell_type": "code",
   "execution_count": 27,
   "metadata": {},
   "outputs": [
    {
     "name": "stdout",
     "output_type": "stream",
     "text": [
      "For N = 1000 :  0.7852607929407203 ± 0.005069683704302612\n"
     ]
    },
    {
     "data": {
      "image/png": "[encoded data removed]",
      "text/plain": [
       "<Figure size 432x288 with 1 Axes>"
      ]
     },
     "metadata": {
      "needs_background": "light"
     },
     "output_type": "display_data"
    }
   ],
   "source": [
    "def f(x):\n",
    "    return 1./(1+pow(x,2))\n",
    "\n",
    "N = 1000\n",
    "sum = 0.\n",
    "sum2 = 0.\n",
    "for i in range(N):\n",
    "    x = random.random()\n",
    "    sum += f(x)\n",
    "    sum2 += pow(f(x),2)\n",
    "result = sum/N\n",
    "sigma = np.sqrt((sum2/N - pow(sum/N,2))/N)\n",
    "print(\"For N =\", N, \": \", result, \"±\", sigma)\n",
    "\n",
    "x = np.linspace(0,1,20)\n",
    "y = f(x)\n",
    "plt.plot(x,y)\n",
    "plt.show()"
   ]
  },
  {
   "cell_type": "markdown",
   "metadata": {},
   "source": [
    "### Importance Sampling of Random Numbers in Integration\n",
    "\n",
    "We saw that the uncertainty of the Monte Carlo integral is proportional to the variance of the integrand $f(x)$.\n",
    "This is sometimes glossed over in the discussion of the convergence, but the variance of the integrand is just as important as the factor $1/N$.\n",
    "If we had a way to reduce the variation in the integrand, we would be able to make the Monte Carlo integral converge more quickly.\n",
    "\n",
    "Imagine multiplying and dividing the integrand by a carefully chosen normalized weight function $w(x)$:\n",
    "\n",
    "$$\\begin{align}\n",
    "I &= \\int_a^b f(x) dx \\\\\n",
    "&= \\int_a^b \\frac{f(x)}{w(x)} \\ w(x) \\ dx \\\\\n",
    "\\end{align}\n",
    "$$\n",
    "\n",
    "If we make a change from variable from $x$ to $y$ so that\n",
    "\n",
    "$$y(x) = \\int_a^x w(t) \\ dt$$\n",
    "\n",
    "then we are using the *cumulative probability distribution* of $w(x)$.  (Remember that $\\int_a^b w(x) dx = 1$.)\n",
    "\n",
    "The integral $I$, under the change of variables, becomes\n",
    "\n",
    "$$\n",
    "I = \\int_{y^{-1}(a)}^{y^{-1}(b)} \\frac{f(x(y))}{w(x(y))} \\ dy\n",
    "= \\frac{1}{N} \\sum_{i=1}^N \\frac{f}{w}\n",
    "$$\n",
    "\n",
    "If we choose a function $w(x)$ that has similar behavior to $f(x)$, then the integrand will be smooth , with a small variance.  Obviously this will reduce the uncertainty on the integral.\n",
    "\n",
    "Here is another way to think of the substitution: \n",
    "instead of uniformly sampling $x$ to integrate $f(x)$, we uniformly sample $y$ and integrate $f(x)/w(x)$.\n",
    "A uniform distribution of points in $y$ yields a distribution of point in $x$ distributed as $dy/dx = w(x)$.\n",
    "That is, the integration points are concentrated in the regions of $x$ where $w(x)$ (and hopefully $f(x)$, by design) are large.\n",
    "\n",
    "We are sampling the points that are most important to the sum approximating the integral.\n",
    "For that reason, this kind of sampling is called *importance sampling*.\n",
    "\n",
    "You may say that we are biasing the final sum toward points that have large $f$ values.  How can a simple $1/N$ adjustment compensate that?\n"
   ]
  },
  {
   "cell_type": "markdown",
   "metadata": {},
   "source": [
    "### Example integrations with importance sampling\n",
    "\n",
    "The challenge of importance sampling is finding a good $w(x)$ and writing the transform $x\\rightarrow y$.\n",
    "\n",
    "Consider our example\n",
    "$$\\int_0^1 \\frac{dx}{1+x^2}$$\n",
    "\n",
    "The integrand is monotonically decreasing , so we will look for a $w(x)$ that is roughly of the same order and decreases with $x$.\n",
    "A good choice is \n",
    "$$w(x) = \\frac{1}{3} (4-2x)$$\n",
    "This has the benefit of already being normalized over the interval [0,1], it has near-unity values of 3/4 at both endpoints, and it is nearly flat everywhere in the interval."
   ]
  },
  {
   "cell_type": "code",
   "execution_count": 5,
   "metadata": {},
   "outputs": [
    {
     "data": {
      "image/png": "[encoded data removed]",
      "text/plain": [
       "<Figure size 432x288 with 1 Axes>"
      ]
     },
     "metadata": {
      "needs_background": "light"
     },
     "output_type": "display_data"
    }
   ],
   "source": [
    "x = np.linspace(0,1,20)\n",
    "f = 1./(1+pow(x,2))\n",
    "w = 1./3. * (4-2*x)\n",
    "fplot, = plt.plot(x, f, \"g\")\n",
    "wplot, = plt.plot(x, w, \"b--\")\n",
    "ratioplot, = plt.plot(x, f/w, \"k-.\")\n",
    "plt.xlabel(\"x\")\n",
    "plt.legend([fplot, wplot, ratioplot], ['f', 'w', 'f/w'])\n",
    "plt.show()"
   ]
  },
  {
   "cell_type": "markdown",
   "metadata": {},
   "source": [
    "According to our recipe\n",
    "$$\\begin{align}\n",
    "y(x) &= \\int_0^x w(t)\\ dt \\\\\n",
    "&= \\int_0^x \\frac{1}{3} (4-2t) \\ dt \\\\\n",
    "&= \\frac{1}{3} x (4-x)\n",
    "\\end{align}$$\n",
    "\n",
    "The x-values for the function evaluation are now $x(y)$:\n",
    "\n",
    "$$x = 2 - (4-3y)^{1/2}$$\n",
    "\n",
    "and the limits of integration are $y^{-1}(a) = y^{-1}(0) = 0$ and $y^{-1}(b) = y^{-1}(1) = 1$.\n",
    "\n",
    "(This is true by construction: can you see why?)"
   ]
  },
  {
   "cell_type": "code",
   "execution_count": 6,
   "metadata": {},
   "outputs": [
    {
     "name": "stdout",
     "output_type": "stream",
     "text": [
      "For N= 1000 :  0.7840216263408172 +/- 0.0006375730943275779\n"
     ]
    }
   ],
   "source": [
    "# Monte Carlo integration with importance sampling\n",
    "\n",
    "def f(x):\n",
    "    return 1./(1+pow(x,2))\n",
    "\n",
    "def w(x):\n",
    "    return (4. - 2.*x)/3.\n",
    "\n",
    "def xx(y): \n",
    "    return 2. - np.sqrt(4 - 3*y)\n",
    "\n",
    "N = 1000\n",
    "sum = 0.\n",
    "sum2 = 0.\n",
    "for i in range(N):\n",
    "    y = random.random()\n",
    "    x = xx(y)\n",
    "    integrand = f(x)/w(x)\n",
    "    sum += integrand\n",
    "    sum2 += pow(integrand,2)\n",
    "result = sum/N\n",
    "sigma = np.sqrt((sum2/N - pow(sum/N,2))/N)\n",
    "print(\"For N=\", N, \": \", result, \"+/-\", sigma)"
   ]
  },
  {
   "cell_type": "markdown",
   "metadata": {},
   "source": [
    "It looks like the uncertainty has been reduced by almost a factor of 10 for $N=1000$.\n",
    "\n",
    "The method of transforming the variable from $x$ to $y$ via the incomplete integral always works if $w(x)$ is known.\n",
    "The problem is that $w(x)$ may be a complicated function that is too difficult to invert.\n",
    "\n",
    "Is there another (simpler?) way to generate random points with a certain probability distribution $w(x)$?\n",
    "\n",
    "**Yes!** The *von Neumann method (acceptance/rejection method)* can generate a sequence that follows $w(x)$.\n",
    "\n",
    "Next, we will investigate two more ways to improve the importance sampling in MC integration:\n",
    "* von Neumann algorithm (acceptance/rejection method)\n",
    "* Metropolis algorithm (Markov chain method)"
   ]
  },
  {
   "cell_type": "markdown",
   "metadata": {},
   "source": [
    "## Monte Carlo Integration\n",
    "\n",
    "The general Monte Carlo integration rule was presented at the beginning of today's lecture:\n",
    "$$\\int_{a}^{b} \\ dx \\  f(x) \\simeq\n",
    "(b-a)\\frac{1}{N} \\sum_{i=1}^{N} f(x_{i}) = (b-a) \\langle f\n",
    "\\rangle$$\n",
    "\n",
    "The challenge is to determine a sequence of $x_i$ that helps the estimate converge to the true value of the integral as fast as possible (with minimal $N$).\n",
    "\n",
    "$$\\begin{align}\n",
    "\\sigma_I^2 &\\simeq \\frac{1}{N} \\sigma_f^2 \\\\\n",
    "&= \\frac{1}{N} \\left[ \\frac{1}{N} \\sum_{i=1}^N f_i^2 - \\left( \\frac{1}{N} \\sum_{i=1}^N f_i \\right)^2 \\right]\n",
    "\\end{align}$$\n",
    "\n",
    "In this course, we are focusing on the following methods for generating the $x_i$ sequence:\n",
    "* uniform sampling throughout the interval\n",
    "* importance sampling via integration of weighting function and analytic inversion of cumulative probability distribution\n",
    "* importance sampling via von Neumann method (acceptance/rejection method)\n",
    "* importance sampling via Metropolis algorithm (Markov chain random walk)\n",
    "\n",
    "We have already covered the first two methods."
   ]
  },
  {
   "cell_type": "markdown",
   "metadata": {},
   "source": [
    "### Importance Sampling\n",
    "\n",
    "Let us compare the $x_i$ used in uniform sampling and importance sampling.  We plot each point at ($x_i, f(x_i))$.\n",
    "\n",
    "In the following examples, we are estimating the integral\n",
    "$$\\int_0^1 \\frac{dx}{1+x^2}$$"
   ]
  },
  {
   "cell_type": "code",
   "execution_count": 7,
   "metadata": {},
   "outputs": [
    {
     "name": "stdout",
     "output_type": "stream",
     "text": [
      "For N= 20 :  0.8274942432012093 +/- 0.032576320824217214\n",
      "For N= 20 :  0.7888238479220334 +/- 0.004197882227841968\n"
     ]
    },
    {
     "data": {
      "image/png": "[encoded data removed]",
      "text/plain": [
       "<Figure size 432x288 with 1 Axes>"
      ]
     },
     "metadata": {
      "needs_background": "light"
     },
     "output_type": "display_data"
    }
   ],
   "source": [
    "# Monte Carlo integration with uniform sampling and importance sampling\n",
    "import numpy as np\n",
    "import matplotlib.pyplot as plt\n",
    "import random\n",
    "\n",
    "# Interval of integration is [0,1] in x\n",
    "def f(x):\n",
    "    return 1./(1+pow(x,2))\n",
    "\n",
    "def w(x):\n",
    "    return (4. - 2.*x)/3.\n",
    "\n",
    "def xx(y):\n",
    "    return 2. - np.sqrt(4 - 3*y)\n",
    "\n",
    "# Uniform sampling\n",
    "N = 20\n",
    "sum = 0.\n",
    "sum2 = 0.\n",
    "uniform_x_values = []\n",
    "uniform_f_values = []\n",
    "for i in range(N):\n",
    "    x = random.random()\n",
    "    sum += f(x)\n",
    "    sum2 += pow(f(x),2)\n",
    "    uniform_x_values.append(x)\n",
    "    uniform_f_values.append(f(x))\n",
    "result = sum/N\n",
    "sigma = np.sqrt((sum2/N - pow(sum/N,2))/N)\n",
    "print(\"For N=\", N, \": \", result, \"+/-\", sigma)\n",
    "\n",
    "# Importance sampling\n",
    "sum = 0.\n",
    "sum2 = 0.\n",
    "importance_x_values = []\n",
    "importance_f_values = []\n",
    "for i in range(N):\n",
    "    y = random.random()\n",
    "    x = xx(y)\n",
    "    integrand = f(x)/w(x)\n",
    "    sum += integrand\n",
    "    sum2 += pow(integrand,2)\n",
    "    importance_x_values.append(x)\n",
    "    importance_f_values.append(f(x))\n",
    "result = sum/N\n",
    "sigma = np.sqrt((sum2/N - pow(sum/N,2))/N)\n",
    "print(\"For N=\", N, \": \", result, \"+/-\", sigma)\n",
    "\n",
    "plt.plot(uniform_x_values, uniform_f_values, 'ro')\n",
    "plt.plot(importance_x_values, importance_f_values, 'bv')\n",
    "plt.show()"
   ]
  },
  {
   "cell_type": "markdown",
   "metadata": {},
   "source": [
    "The blue triangles from the importance sampling tend to be in the region where the weighting function values are large.  There are two things to note about both:\n",
    "* There is no order to the random numbers.  A point is not necessarily followed by another point nearby.\n",
    "* There is no correlation between the numbers in the sequence.  This is crucial to our formula for the uncertainty estimate.\n",
    "\n",
    "*Question*: How can we get the same estimate for the integral, approximated by the sum of function values, when the \"random\" sequence is biased toward the high function values?  \n",
    "*Answer*: The answer is that the integrand in importance sampling is not $f(x)$ or even $f(x(y))$.\n",
    "Instead it is $f(x)/w(x)$, and $w(x)$ also happens to be large where $f(x)$ is large.  The sequence bias toward large values of $w(x)$ is compensated by the $1/w(x)$ in the integrand."
   ]
  },
  {
   "cell_type": "code",
   "execution_count": null,
   "metadata": {},
   "outputs": [],
   "source": []
  }
 ],
 "metadata": {
  "anaconda-cloud": {},
  "kernelspec": {
   "display_name": "Python 3 (ipykernel)",
   "language": "python",
   "name": "python3"
  },
  "language_info": {
   "codemirror_mode": {
    "name": "ipython",
    "version": 3
   },
   "file_extension": ".py",
   "mimetype": "text/x-python",
   "name": "python",
   "nbconvert_exporter": "python",
   "pygments_lexer": "ipython3",
   "version": "3.9.7"
  }
 },
 "nbformat": 4,
 "nbformat_minor": 1
}
