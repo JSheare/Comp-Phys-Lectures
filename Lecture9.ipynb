{
 "cells": [
  {
   "cell_type": "markdown",
   "metadata": {},
   "source": [
    "# *Lecture 9*\n",
    "\n",
    "# Root Finding\n",
    "\n",
    "| |\n",
    "|:---:|\n",
    "|Selected Content [From **COMPUTATIONAL PHYSICS**, 3rd Ed, 2015](http://physics.oregonstate.edu/~rubin/Books/CPbook/index.html) <br>RH Landau, MJ Paez, and CC Bordeianu (deceased) <br>Copyrights: <br> [Wiley-VCH, Berlin;](http://www.wiley-vch.de/publish/en/books/ISBN3-527-41315-4/) and [Wiley & Sons, New York](http://www.wiley.com/WileyCDA/WileyTitle/productCd-3527413154.html)<br>  R Landau, Oregon State Unv, <br>MJ Paez, Univ Antioquia,<br> C Bordeianu, Univ Bucharest, 2015.<br> Support by National Science Foundation.|"
   ]
  },
  {
   "cell_type": "markdown",
   "metadata": {},
   "source": [
    "## Physics Application: Root Finding in Projectile Motion\n",
    "\n",
    "A rocket's trajectory is given by kinematic equations of projectile motion.\n",
    "Assuming a flat surface, we can calculate the vertical position $y$ of the rocket for any $x$ value:\n",
    "\n",
    "$$y = \\tan(\\theta_0)\\, x - \\frac{g}{2 v_0^2 \\cos^2 \\theta_0}\\, x^2$$\n",
    "\n",
    "This form $y=ax + bx^2$ implies a parabolic trajectory.\n",
    "\n",
    "We can set $y=0$ and solve for the range $x$ of the projectile.\n",
    "Of course this is simple to do algebraically for this particular case, but what if there is an additional term in $y$, reflecting an additional $x$ dependent force?  That is, solve for $y=0$ in\n",
    "\n",
    "$$y = \\tan(\\theta_0)\\, x - \\frac{g}{2 v_0^2 \\cos^2 \\theta}\\, x^2 - 0.01 x^{1.5}$$\n"
   ]
  },
  {
   "cell_type": "markdown",
   "metadata": {},
   "source": [
    "## Solving for Roots of Equations\n",
    "\n",
    "Root finding for a simple 1-dimensional equation is the gateway to more complicated systems.\n",
    "By \"root finding,\" we mean finding values of $x$ for which $f(x)=0$.\n",
    "\n",
    "Here we introduce three ways of finding roots by trial and error:\n",
    "* bisection method\n",
    "* Newton-Raphson method (local slope)\n",
    "* secant method (local interpolation)\n",
    "\n",
    "In all of these methods the following steps are taken:\n",
    "1. Choose a trial value of $x$ (the guess)\n",
    "2. Evaluate $f(x)$ at that value of $x$.  This value represents the \"error\" with respect to 0.\n",
    "3. Use information from the error to return to step 1 or give up.\n",
    "\n",
    "### Bisection method\n",
    "\n",
    "In the bisection method, we bracket the root by defining an interval for which $f(x)$ is positive on one end and negative on the other.  \n",
    "$f(x)$ changes sign at its root, somewhere inside this interval.\n",
    "\n",
    "To be specific, let us say that\n",
    "$f(x)$ is negative at $x_−$ and positive at $x_+$:\n",
    "\n",
    "$$f(x_-) < 0, \\quad f(x_+) > 0$$\n",
    "\n",
    "<img src=\"Figures/Figure_7.1.png\" width=\"50%\">\n",
    "\n",
    "The bisection algorithm Step 1 picks the new $x$ as the midpoint (bisection) of the interval, and defines the new interval as the half in which the sign change\n",
    "occurs.\n",
    "Practically, this means that one of $x_-$ or $x_+$ has to change with the redefinition of the interval, as in the following pseudocode:\n",
    "\n",
    "       x = ( xPlus + xMinus ) / 2\n",
    "       if ( f(x) * f(xPlus) > 0 ) xPlus = x\n",
    "          else xMinus = x\n",
    "\n",
    "This process continues until the value of $f(x)$ is less than a\n",
    "predefined level of precision or until a predefined (large) number of\n",
    "subdivisions occurs.\n",
    "\n",
    "The following code snippet implements the bisection algorithm to find the root of $f(x) = 2\\cos(x) - x$:"
   ]
  },
  {
   "cell_type": "code",
   "execution_count": 2,
   "metadata": {},
   "outputs": [
    {
     "name": "stdout",
     "output_type": "stream",
     "text": [
      "iteration  0: x = 3.500000 and f(x) = -5.372913\n",
      "iteration  1: x = 1.750000 and f(x) = -2.106492\n",
      "iteration  2: x = 0.875000 and f(x) =  0.406994\n",
      "iteration  3: x = 1.312500 and f(x) = -0.801632\n",
      "iteration  4: x = 1.093750 and f(x) = -0.175435\n",
      "iteration  5: x = 0.984375 and f(x) =  0.122393\n",
      "iteration  6: x = 1.039062 and f(x) = -0.025005\n",
      "iteration  7: x = 1.011719 and f(x) =  0.049090\n",
      "iteration  8: x = 1.025391 and f(x) =  0.012139\n",
      "iteration  9: x = 1.032227 and f(x) = -0.006409\n",
      "iteration 10: x = 1.028809 and f(x) =  0.002871\n",
      "iteration 11: x = 1.030518 and f(x) = -0.001767\n",
      "iteration 12: x = 1.029663 and f(x) =  0.000552\n",
      "iteration 13: x = 1.030090 and f(x) = -0.000608\n",
      "iteration 14: x = 1.029877 and f(x) = -0.000028\n",
      "iteration 15: x = 1.029770 and f(x) =  0.000262\n",
      "iteration 16: x = 1.029823 and f(x) =  0.000117\n",
      "iteration 17: x = 1.029850 and f(x) =  0.000045\n",
      "iteration 18: x = 1.029863 and f(x) =  0.000009\n",
      "iteration 19: x = 1.029870 and f(x) = -0.000010\n",
      "iteration 20: x = 1.029867 and f(x) = -0.000000\n",
      "iteration 21: x = 1.029865 and f(x) =  0.000004\n",
      "iteration 22: x = 1.029866 and f(x) =  0.000002\n",
      "root found with precision eps =  1e-06\n",
      "Root = 1.0298658609390259\n"
     ]
    }
   ],
   "source": [
    "# Root finding with bisection method\n",
    "def f(x):                                      # Test function\n",
    "    return 2*cos(x)-x\n",
    "\n",
    "def bisection(xminus, xplus, Nmax, eps):       # x-,x+ Nmax error\n",
    "    for it in range(0,Nmax):\n",
    "        x=(xminus+xplus)/2                     # Mid point\n",
    "        print(\"iteration %2d: x = %.6f and f(x) = %9.6f\" % (it, x, f(x)))\n",
    "        if (f(xplus)*f(x))>0:                      # Root in other half\n",
    "            xplus=x                            # Change x+ to x\n",
    "        else:\n",
    "            xminus=x                           # Change x- to x\n",
    "        if(xplus-xminus<eps):                           # Converged?\n",
    "            print(\"root found with precision eps = \",eps)\n",
    "            break\n",
    "        if it==Nmax-1:\n",
    "             print(\"root not found after Nmax iterations \")   \n",
    "    return x  \n",
    "\n",
    "eps=1e-6\n",
    "a=0.0\n",
    "b=7.0\n",
    "Nmax=100\n",
    "root=bisection(a, b, Nmax, eps)\n",
    "print(\"Root =\",root)"
   ]
  },
  {
   "cell_type": "markdown",
   "metadata": {},
   "source": [
    "We can apply this method to the physics application above (projectile motion).\n",
    "First we try with the simple quadratic equation, and then with the more complicated expression for $y$:"
   ]
  },
  {
   "cell_type": "code",
   "execution_count": 12,
   "metadata": {},
   "outputs": [
    {
     "name": "stdout",
     "output_type": "stream",
     "text": [
      "iteration  0: x = 250.000000 and y(x) = -132.812500\n",
      "iteration  1: x = 125.000000 and y(x) = 29.296875\n",
      "iteration  2: x = 187.500000 and y(x) = -27.832031\n",
      "iteration  3: x = 156.250000 and y(x) =  6.713867\n",
      "iteration  4: x = 171.875000 and y(x) = -9.063721\n",
      "iteration  5: x = 164.062500 and y(x) = -0.801086\n",
      "iteration  6: x = 160.156250 and y(x) =  3.049850\n",
      "iteration  7: x = 162.109375 and y(x) =  1.147747\n",
      "iteration  8: x = 163.085938 and y(x) =  0.179172\n",
      "iteration  9: x = 163.574219 and y(x) = -0.309497\n",
      "iteration 10: x = 163.330078 and y(x) = -0.064798\n",
      "iteration 11: x = 163.208008 and y(x) =  0.057278\n",
      "iteration 12: x = 163.269043 and y(x) = -0.003737\n",
      "iteration 13: x = 163.238525 and y(x) =  0.026776\n",
      "iteration 14: x = 163.253784 and y(x) =  0.011521\n",
      "iteration 15: x = 163.261414 and y(x) =  0.003892\n",
      "iteration 16: x = 163.265228 and y(x) =  0.000078\n",
      "iteration 17: x = 163.267136 and y(x) = -0.001830\n",
      "iteration 18: x = 163.266182 and y(x) = -0.000876\n",
      "iteration 19: x = 163.265705 and y(x) = -0.000399\n",
      "iteration 20: x = 163.265467 and y(x) = -0.000161\n",
      "iteration 21: x = 163.265347 and y(x) = -0.000041\n",
      "iteration 22: x = 163.265288 and y(x) =  0.000018\n",
      "iteration 23: x = 163.265318 and y(x) = -0.000012\n",
      "iteration 24: x = 163.265303 and y(x) =  0.000003\n",
      "iteration 25: x = 163.265310 and y(x) = -0.000004\n",
      "iteration 26: x = 163.265307 and y(x) = -0.000000\n",
      "iteration 27: x = 163.265305 and y(x) =  0.000001\n",
      "iteration 28: x = 163.265306 and y(x) =  0.000001\n",
      "root found with precision eps =  1e-06\n",
      "Root = 163.26530557125807\n"
     ]
    }
   ],
   "source": [
    "import numpy as np\n",
    "import matplotlib.pyplot as plt \n",
    "# Projectile motion application\n",
    "# Root finding with bisection method\n",
    "def y(x):                                      # Test function\n",
    "    g = 9.8\n",
    "    v0 = 40.\n",
    "    theta = 45. * np.pi/180.\n",
    "    return np.tan(theta)*x - g/(2*pow(v0*np.cos(theta),2))*x*x\n",
    "#     return np.tan(theta)*x - g/(2*pow(v0*np.cos(theta),2))*x*x - 0.01*pow(x,1.5)\n",
    "\n",
    "def bisection(xminus, xplus, Nmax, eps):       # x-,x+ Nmax error\n",
    "    for it in range(0,Nmax):\n",
    "        x=(xminus+xplus)/2                     # Mid point\n",
    "        print(\"iteration %2d: x = %.6f and y(x) = %9.6f\" % (it, x, y(x)))\n",
    "        if (y(xplus)*y(x))>0:                      # Root in other half\n",
    "            xplus=x                            # Change x+ to x\n",
    "        else:\n",
    "            xminus=x                           # Change x- to x\n",
    "        if(xplus-xminus<eps):                           # Converged?\n",
    "            print(\"root found with precision eps = \",eps)\n",
    "            break\n",
    "        if it==Nmax-1:\n",
    "             print(\"root not found after Nmax iterations \")   \n",
    "    return x  \n",
    "\n",
    "eps=1e-6\n",
    "a=0.\n",
    "b=500.\n",
    "Nmax=100\n",
    "root=bisection(a, b, Nmax, eps)\n",
    "print(\"Root =\",root)"
   ]
  },
  {
   "cell_type": "markdown",
   "metadata": {},
   "source": [
    "Check to see that the result matches the range for the projectile:\n",
    "$$d = \\frac{v_0^2}{g} \\sin(2\\theta)$$"
   ]
  },
  {
   "cell_type": "markdown",
   "metadata": {},
   "source": [
    "### Physics Example: Quantum Energy Levels in Finite Square Well\n",
    "\n",
    "Standard problem in quantum mechanics: solve for the energies of a particle\n",
    "of mass $m$ bound within a 1-D square well of radius $a$:\n",
    "\n",
    "$$\n",
    "V(x) \n",
    "=\\begin{cases}\n",
    "    -V_0, & \\mbox{for } |x| \\leq a    \\\\\n",
    "  0, & \\mbox{for }  |x| \\geq a\n",
    "\\end{cases}\n",
    "$$\n",
    "\n",
    "As shown in quantum mechanics texts, the energies of the bound states $E = −E_B < 0$ within this well are solutions of the transcendental equations\n",
    "\n",
    "$$\\begin{align}\n",
    "\\sqrt{10-E_B}  \\tan\\left(\\sqrt{10-E_B}\\right) & =  \\sqrt{E_B}\n",
    "\\quad\n",
    "\\mbox{(even)},\\\\\n",
    "\\sqrt{10-E_B}\\ \\ \\mbox{cotan}\\left(\\sqrt{10-E_B}\\right)& =\n",
    "\\sqrt{E_B}\\quad \\mbox{(odd)}\n",
    "\\end{align}$$\n",
    "\n",
    "where even and odd refer to the symmetry of the wave function. Here we have chosen units such that $\\hbar = 1$, $2m = 1$, $a = 1$, and $V_0 = 10$.\n",
    "\n",
    "This kind of equation \n",
    "\n",
    "$$\\sqrt{10-E} \\tan(\\sqrt{10-E})-\\sqrt{E} = 0$$\n",
    "\n",
    "or, equivalently,\n",
    "\n",
    "$$\\sqrt{E} \\cot(\\sqrt{10-E})-\\sqrt{10-E} = 0$$\n",
    "\n",
    "can be solved numerically for the allowed values of $E$.\n",
    "\n",
    "It is always a good idea to check the function visually, just to get some idea of the behavior.  Do not be fooled by the extra apparent zeros that are an artifact of the plotting functions!"
   ]
  },
  {
   "cell_type": "code",
   "execution_count": 140,
   "metadata": {},
   "outputs": [
    {
     "data": {
      "image/png": "[encoded data removed]",
      "text/plain": [
       "<Figure size 432x288 with 1 Axes>"
      ]
     },
     "metadata": {},
     "output_type": "display_data"
    }
   ],
   "source": [
    "def f(E):\n",
    "    return np.sqrt(10.-E)*np.tan(np.sqrt(10.-E))-np.sqrt(E)\n",
    "\n",
    "def g(E):\n",
    "    return np.sqrt(E)/np.tan(np.sqrt(10.-E)) - np.sqrt(10.-E)\n",
    "\n",
    "E_values = []\n",
    "f_values = []\n",
    "g_values = []\n",
    "for E in np.linspace(0., 9.9, 100):\n",
    "    E_values.append(E)\n",
    "    f_values.append(f(E))\n",
    "    g_values.append(g(E))\n",
    "plt.plot(E_values, f_values)\n",
    "plt.plot(E_values, g_values)\n",
    "#plt.plot(E_values, f_values, \"ro\")\n",
    "#plt.plot(E_values, g_values, \"bo\")\n",
    "plt.ylim(-10.,10.)\n",
    "plt.xlabel(\"E\")\n",
    "plt.ylabel(\"f(E)\")\n",
    "plt.grid()\n",
    "plt.show()"
   ]
  },
  {
   "cell_type": "code",
   "execution_count": 63,
   "metadata": {},
   "outputs": [
    {
     "data": {
      "image/png": "[encoded data removed]",
      "text/plain": [
       "<Figure size 432x288 with 1 Axes>"
      ]
     },
     "metadata": {},
     "output_type": "display_data"
    }
   ],
   "source": [
    "E_values = []\n",
    "f_values = []\n",
    "for E in np.linspace(8., 9.9, 100):\n",
    "    E_values.append(E)\n",
    "    f_values.append(f(E))\n",
    "plt.plot(E_values, f_values)\n",
    "plt.ylim(-10.,10.)\n",
    "plt.grid()\n",
    "plt.show()"
   ]
  },
  {
   "cell_type": "markdown",
   "metadata": {},
   "source": [
    "Now we are ready to use the bisection method to find the zeros of $f(E)$."
   ]
  },
  {
   "cell_type": "code",
   "execution_count": 62,
   "metadata": {},
   "outputs": [
    {
     "name": "stdout",
     "output_type": "stream",
     "text": [
      "iteration  0: x = 8.600000 and y(x) = -0.034165\n",
      "iteration  1: x = 8.400000 and y(x) =  1.107187\n",
      "iteration  2: x = 8.500000 and y(x) =  0.481307\n",
      "iteration  3: x = 8.550000 and y(x) =  0.211801\n",
      "iteration  4: x = 8.575000 and y(x) =  0.086087\n",
      "iteration  5: x = 8.587500 and y(x) =  0.025302\n",
      "iteration  6: x = 8.593750 and y(x) = -0.004593\n",
      "iteration  7: x = 8.590625 and y(x) =  0.010314\n",
      "iteration  8: x = 8.592187 and y(x) =  0.002850\n",
      "iteration  9: x = 8.592969 and y(x) = -0.000874\n",
      "iteration 10: x = 8.592578 and y(x) =  0.000987\n",
      "iteration 11: x = 8.592773 and y(x) =  0.000056\n",
      "iteration 12: x = 8.592871 and y(x) = -0.000409\n",
      "root found with precision eps = 1.000000e-04\n"
     ]
    },
    {
     "data": {
      "text/plain": [
       "8.59287109375"
      ]
     },
     "execution_count": 62,
     "metadata": {},
     "output_type": "execute_result"
    }
   ],
   "source": [
    "def bisection(xminus, xplus, Nmax, eps):       # x-,x+ Nmax error\n",
    "    for it in range(0,Nmax):\n",
    "        x=(xminus+xplus)/2                     # Mid point\n",
    "        print(\"iteration %2d: x = %.6f and y(x) = %9.6f\" % (it, x, f(x)))\n",
    "        if (f(xplus)*f(x))>0:                      # Root in other half\n",
    "            xplus=x                            # Change x+ to x\n",
    "        else:\n",
    "            xminus=x                           # Change x- to x\n",
    "        if(xplus-xminus<eps):                           # Converged?\n",
    "            print(\"root found with precision eps = %e\" % eps)\n",
    "            break\n",
    "        if it==Nmax-1:\n",
    "             print(\"root not found after Nmax iterations \")   \n",
    "    return x  \n",
    "\n",
    "bisection(8.2,9.0,100,1e-04)"
   ]
  },
  {
   "cell_type": "markdown",
   "metadata": {},
   "source": [
    "### Newton-Raphson Method\n",
    "\n",
    "The Newton-Raphson method uses information from the function itself, not just at the sign crossing, to estimate more accurately where exactly the sign crossing will happen.\n",
    "\n",
    "This algorithm is the equivalent of drawing a straight line $f(x) = mx+b$\n",
    "tangent to the curve and then using the\n",
    "intercept of the line with the $x$ axis at $x = −b/m$ as an improved guess\n",
    "for the root. \n",
    "The process continues until some set level of\n",
    "precision is reached. If a guess is in a region where $f(x)$ is nearly linear, then the convergence is much more rapid than for the bisection algorithm.\n",
    "\n",
    "The analytic formulation of the Newton-Raphson algorithm starts with an old\n",
    "guess $x_0$ and expresses a new guess $x$ as a correction $\\Delta x$ to\n",
    "the old guess:\n",
    "\n",
    "$$\n",
    "\\begin{align}\n",
    "  x_0 & =  \\mbox{old guess},\\quad\n",
    "  \\Delta x = \\mbox{unknown correction} \\\\\n",
    "    \\Rightarrow\\quad x & =  x_0 + \\Delta x = \\mbox{(unknown) new guess}\n",
    "\\end{align}\n",
    "$$\n",
    "\n",
    "We next expand the known function $f(x)$ in a Taylor series around\n",
    "$x_0$ and keep only the linear terms:\n",
    "\n",
    "$$f(x = x_0 + \\Delta x) \\simeq f(x_0) + \\left. \\frac{d f}\n",
    "{dx}\\right|_{x_0} \\Delta x$$\n",
    "\n",
    "We then determine the correction $\\Delta x$ by calculating the point at which this\n",
    "linear approximation to $f(x)$ crosses the $x$ axis:\n",
    "\n",
    "$$\\begin{align}\n",
    "  f(x_0) + \\left. \\frac{d f} {dx}\\right|_{x_0} \\Delta x  & = 0 ,\\\\\n",
    " \\Rightarrow  \\quad   \\Delta x & = - \\frac{f(x_0)} {  \\left. {(df /\n",
    "    dx)}\\right|_{x_0}}\n",
    "\\end{align}$$\n",
    "\n",
    "The procedure is repeated starting at the improved $x$ until some desired\n",
    "level of precision is obtained.\n",
    "\n",
    "<img src=\"Figures/Figure_7.2.png\" width=\"50%\">\n",
    "\n",
    "The advantage of this method is that it can converge faster than the simpler bisection method.\n",
    "\n",
    "The disadvantages of this method are\n",
    "1. It requires you to calculate the derivative of the function in addition to the function itself.  This implies analytic differentation or numerical differentiation.\n",
    "2. It may fail for a rapidly-varying function, if the straight-line extrapolation to the $x$-axis jumps over the zero to another point with the same-sign derivative.\n",
    "\n",
    "To mitigate disadvantage \\#1, we can calculate the forward difference derivative\n",
    "$$\\frac{d f} {d x} \\simeq \\frac{f (x + \\delta x) - f (x)}{\\delta x}$$\n",
    "so that we can re-use the evaluation $f(x)$ that we already performed.\n",
    "\n",
    "This should be more straightforward than using the central difference derivative.\n",
    "\n",
    "In the following example, we return to our original test function $f(x) = 2\\cos(x) -x$."
   ]
  },
  {
   "cell_type": "code",
   "execution_count": 10,
   "metadata": {},
   "outputs": [
    {
     "name": "stdout",
     "output_type": "stream",
     "text": [
      "Iteration  0  x =  4.0  f(x) =  -5.307287241727224\n",
      "Iteration  1  x =  11.740749215681033  f(x) =  -10.384548440431919\n",
      "Iteration  2  x =  0.9987770197629118  f(x) =  0.08388498810969569\n",
      "Iteration  3  x =  1.1148991974395952  f(x) =  -0.23436321106717928\n",
      "Iteration  4  x =  1.0324572710157693  f(x) =  -0.007035917319504481\n",
      "Iteration  5  x =  1.0298249880685693  f(x) =  0.000112761205155687\n",
      "Root found at x = 1.02987, F = -5.73114e-08, tolerance eps = 1.000000e-04\n"
     ]
    }
   ],
   "source": [
    "\"\"\" From \"COMPUTATIONAL PHYSICS\", 3rd Ed \n",
    "    by RH Landau, MJ Paez, and CC Bordeianu\n",
    "    Copyright Wiley-VCH Verlag GmbH & Co. KGaA, Berlin;  Copyright R Landau,\n",
    "    Oregon State Unv, MJ Paez, Univ Antioquia, C Bordeianu, Univ Bucharest, 2015.\n",
    "    Support by National Science Foundation\"\"\"\n",
    "\n",
    "# NewtonCD.py    Newton-Raphson Search with forward difference\n",
    "import numpy as np\n",
    "\n",
    "x = 4.\n",
    "dx = 3.e-1\n",
    "eps = 0.0001\n",
    "imax = 100                                        # Max no of iterations\n",
    "\n",
    "def f(x):                                                     # Function\n",
    "    return 2*np.cos(x) - x\n",
    "\n",
    "for it in range(0, imax + 1):\n",
    "    F = f(x)\n",
    "    if ( abs(F) <= eps ):                         # Check for convergence\n",
    "        print(\"Root found at x = %.5f, F = %.5e, tolerance eps = %e\" % (x, F, eps)) \n",
    "        break\n",
    "    print(\"Iteration \", it, \" x = \", x, \" f(x) = \", F)\n",
    "    df = (f(x + dx) - f(x))/dx                            # Forward difference\n",
    "    dx = - F/df \n",
    "    x += dx                                               # New guess"
   ]
  },
  {
   "cell_type": "markdown",
   "metadata": {},
   "source": [
    "Notice how much more quickly this method converges than the bisection method."
   ]
  },
  {
   "cell_type": "markdown",
   "metadata": {},
   "source": [
    "### Secant Method\n",
    "\n",
    "In the secant method, a line is drawn between the function values at the end of the interval.\n",
    "\n",
    "<img src=\"Figures/Secant_Method.png\" width=\"50%\">\n",
    "\n",
    "This line intersects the $x$ axis at some point, and that becomes the next best estimate of the zero-crossing.\n",
    "This successive approach repeats until $f(x)$ is within $\\epsilon$ of 0.\n",
    "\n",
    "### Hybrid Method\n",
    "\n",
    "You can put together a method that combines the best of the bisection method and the Newton-Raphson method.\n",
    "\n",
    "1. Identify the interval for zero-crossing, as for the bisection method.  The edges of the interval are a hard boundary for the Newton-Raphson method.\n",
    "2. If the Newton-Raphson method tries to go beyond these boundaries, set $x$ to the boundary and continue.\n",
    "\n",
    "This method prevents the Newton-Raphson method from following a derivative too far away from the zero-crossing.\n",
    "Apparently this hybrid method is known to some as [Dekker's method](https://en.wikipedia.org/wiki/Brent%27s_method#Dekker.27s_method)."
   ]
  },
  {
   "cell_type": "markdown",
   "metadata": {},
   "source": [
    "### Exploration: What Happens as $V_0$ increases?\n",
    "\n",
    "Let's return to the energy levels in our finite 1-D square well.\n",
    "Vary $V_0$ and check the energy solution(s) $E$ as a function of $V_0$.\n",
    "* Does it match your expectation?\n",
    "* Which $n$ values are represented?\n",
    "* Make $V_0$ very large.  Do the results match your expectations?\n",
    "* Do you find any limitations to the methods?"
   ]
  },
  {
   "cell_type": "code",
   "execution_count": 17,
   "metadata": {},
   "outputs": [
    {
     "name": "stderr",
     "output_type": "stream",
     "text": [
      "C:\\Users\\palec\\AppData\\Local\\Temp/ipykernel_6936/2850021224.py:5: RuntimeWarning: divide by zero encountered in double_scalars\n",
      "  return np.sqrt(E)/np.tan(np.sqrt(V-E)) - np.sqrt(V-E)\n"
     ]
    },
    {
     "data": {
      "image/png": "[encoded data removed]",
      "text/plain": [
       "<Figure size 432x288 with 1 Axes>"
      ]
     },
     "metadata": {
      "needs_background": "light"
     },
     "output_type": "display_data"
    },
    {
     "name": "stdout",
     "output_type": "stream",
     "text": [
      "iteration  0: x = 40.500000 and f(x) = -10.523955\n",
      "iteration  1: x = 20.750000 and f(x) = -16.536389\n",
      "iteration  2: x = 10.875000 and f(x) = -21.115804\n",
      "iteration  3: x = 5.937500 and f(x) = -28.091109\n",
      "iteration  4: x = 3.468750 and f(x) = -46.262690\n",
      "iteration  5: x = 2.234375 and f(x) = -266.257911\n",
      "iteration  6: x = 1.617188 and f(x) = 55.584065\n",
      "iteration  7: x = 1.925781 and f(x) = 204.718362\n",
      "iteration  8: x = 2.080078 and f(x) = 5785.760119\n",
      "iteration  9: x = 2.157227 and f(x) = -533.170663\n",
      "iteration 10: x = 2.118652 and f(x) = -1144.284562\n",
      "iteration 11: x = 2.099365 and f(x) = -2806.023599\n",
      "iteration 12: x = 2.089722 and f(x) = -10723.158116\n",
      "iteration 13: x = 2.084900 and f(x) = 25370.526286\n",
      "iteration 14: x = 2.087311 and f(x) = -37018.508555\n",
      "iteration 15: x = 2.086105 and f(x) = 161871.090418\n",
      "iteration 16: x = 2.086708 and f(x) = -95935.026568\n",
      "iteration 17: x = 2.086407 and f(x) = -470711.295538\n",
      "iteration 18: x = 2.086256 and f(x) = 493512.771424\n",
      "iteration 19: x = 2.086331 and f(x) = -20338196.205940\n",
      "root found with precision eps =  0.0001\n",
      "iteration  0: x = 120.000000 and f(x) = 258.316429\n",
      "iteration  1: x = 100.000000 and f(x) = -6.661597\n",
      "iteration  2: x = 110.000000 and f(x) =  3.365038\n",
      "iteration  3: x = 105.000000 and f(x) = -2.619855\n",
      "iteration  4: x = 107.500000 and f(x) = -0.025452\n",
      "iteration  5: x = 108.750000 and f(x) =  1.537245\n",
      "iteration  6: x = 108.125000 and f(x) =  0.727903\n",
      "iteration  7: x = 107.812500 and f(x) =  0.344761\n",
      "iteration  8: x = 107.656250 and f(x) =  0.158100\n",
      "iteration  9: x = 107.578125 and f(x) =  0.065943\n",
      "iteration 10: x = 107.539062 and f(x) =  0.020151\n",
      "iteration 11: x = 107.519531 and f(x) = -0.002674\n",
      "iteration 12: x = 107.529297 and f(x) =  0.008732\n",
      "iteration 13: x = 107.524414 and f(x) =  0.003028\n",
      "iteration 14: x = 107.521973 and f(x) =  0.000176\n",
      "iteration 15: x = 107.520752 and f(x) = -0.001249\n",
      "iteration 16: x = 107.521362 and f(x) = -0.000536\n",
      "iteration 17: x = 107.521667 and f(x) = -0.000180\n",
      "iteration 18: x = 107.521820 and f(x) = -0.000002\n",
      "iteration 19: x = 107.521896 and f(x) =  0.000087\n",
      "root found with precision eps =  0.0001\n"
     ]
    },
    {
     "data": {
      "text/plain": [
       "107.52189636230469"
      ]
     },
     "execution_count": 17,
     "metadata": {},
     "output_type": "execute_result"
    }
   ],
   "source": [
    "def f(V, E):\n",
    "    return np.sqrt(V-E)*np.tan(np.sqrt(V-E)) - np.sqrt(E)\n",
    "\n",
    "def g(V, E):\n",
    "    return np.sqrt(E)/np.tan(np.sqrt(V-E)) - np.sqrt(V-E)\n",
    "\n",
    "V = 160. # vary this number to see effects on energy levels\n",
    "E_values = []\n",
    "g_values = []\n",
    "for E in np.linspace(1, V, 500):\n",
    "    E_values.append(E)\n",
    "    g_values.append(g(V, E))\n",
    "plt.plot(E_values, g_values)\n",
    "plt.ylim(-100.,100.)\n",
    "plt.xlabel('energy')\n",
    "plt.grid()\n",
    "plt.show()\n",
    "\n",
    "def bisection2(xminus, xplus, Nmax, eps):       # x-,x+ Nmax error\n",
    "    for it in range(0,Nmax):\n",
    "        x=(xminus+xplus)/2                     # Mid point\n",
    "        print(\"iteration %2d: x = %.6f and f(x) = %9.6f\" % (it, x, g(V,x)))\n",
    "        if (g(V, xplus)*g(V, x))>0:                      # Root in other half\n",
    "            xplus=x                            # Change x+ to x\n",
    "        else:\n",
    "            xminus=x                           # Change x- to x\n",
    "        if(xplus-xminus<eps):                           # Converged?\n",
    "            print(\"root found with precision eps = \",eps)\n",
    "            break\n",
    "        if it==Nmax-1:\n",
    "             print(\"root not found after Nmax iterations \")   \n",
    "    return x  \n",
    "\n",
    "bisection2(1., V/2, Nmax, 1e-04)\n",
    "bisection2(V/2, V, Nmax, 1e-04)"
   ]
  }
 ],
 "metadata": {
  "anaconda-cloud": {},
  "kernelspec": {
   "display_name": "Python 3 (ipykernel)",
   "language": "python",
   "name": "python3"
  },
  "language_info": {
   "codemirror_mode": {
    "name": "ipython",
    "version": 3
   },
   "file_extension": ".py",
   "mimetype": "text/x-python",
   "name": "python",
   "nbconvert_exporter": "python",
   "pygments_lexer": "ipython3",
   "version": "3.9.7"
  }
 },
 "nbformat": 4,
 "nbformat_minor": 4
}
